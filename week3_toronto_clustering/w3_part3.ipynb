{
 "cells": [
  {
   "cell_type": "markdown",
   "metadata": {},
   "source": [
    "# Week 3 Part 3"
   ]
  },
  {
   "cell_type": "code",
   "execution_count": 41,
   "metadata": {},
   "outputs": [],
   "source": [
    "import pandas as pd\n",
    "import numpy as np"
   ]
  },
  {
   "cell_type": "code",
   "execution_count": 2,
   "metadata": {},
   "outputs": [
    {
     "output_type": "execute_result",
     "data": {
      "text/plain": [
       "  Postal Code          Borough                   Neighbourhood   Latitude  \\\n",
       "0         M4E     East Toronto                     The Beaches  43.676357   \n",
       "1         M4K     East Toronto    The Danforth West, Riverdale  43.679557   \n",
       "2         M4L     East Toronto  India Bazaar, The Beaches West  43.668999   \n",
       "3         M4M     East Toronto                 Studio District  43.659526   \n",
       "4         M4N  Central Toronto                   Lawrence Park  43.728020   \n",
       "\n",
       "   Longitude  \n",
       "0 -79.293031  \n",
       "1 -79.352188  \n",
       "2 -79.315572  \n",
       "3 -79.340923  \n",
       "4 -79.388790  "
      ],
      "text/html": "<div>\n<style scoped>\n    .dataframe tbody tr th:only-of-type {\n        vertical-align: middle;\n    }\n\n    .dataframe tbody tr th {\n        vertical-align: top;\n    }\n\n    .dataframe thead th {\n        text-align: right;\n    }\n</style>\n<table border=\"1\" class=\"dataframe\">\n  <thead>\n    <tr style=\"text-align: right;\">\n      <th></th>\n      <th>Postal Code</th>\n      <th>Borough</th>\n      <th>Neighbourhood</th>\n      <th>Latitude</th>\n      <th>Longitude</th>\n    </tr>\n  </thead>\n  <tbody>\n    <tr>\n      <th>0</th>\n      <td>M4E</td>\n      <td>East Toronto</td>\n      <td>The Beaches</td>\n      <td>43.676357</td>\n      <td>-79.293031</td>\n    </tr>\n    <tr>\n      <th>1</th>\n      <td>M4K</td>\n      <td>East Toronto</td>\n      <td>The Danforth West, Riverdale</td>\n      <td>43.679557</td>\n      <td>-79.352188</td>\n    </tr>\n    <tr>\n      <th>2</th>\n      <td>M4L</td>\n      <td>East Toronto</td>\n      <td>India Bazaar, The Beaches West</td>\n      <td>43.668999</td>\n      <td>-79.315572</td>\n    </tr>\n    <tr>\n      <th>3</th>\n      <td>M4M</td>\n      <td>East Toronto</td>\n      <td>Studio District</td>\n      <td>43.659526</td>\n      <td>-79.340923</td>\n    </tr>\n    <tr>\n      <th>4</th>\n      <td>M4N</td>\n      <td>Central Toronto</td>\n      <td>Lawrence Park</td>\n      <td>43.728020</td>\n      <td>-79.388790</td>\n    </tr>\n  </tbody>\n</table>\n</div>"
     },
     "metadata": {},
     "execution_count": 2
    }
   ],
   "source": [
    "# Read prepared data from CSV\n",
    "yyz_latlon = pd.read_csv('yyz_neighbour_latlon.csv')\n",
    "\n",
    "# Keep only those rows have 'Toronto' in their Borough column\n",
    "yyz = yyz_latlon[yyz_latlon['Borough'].str.contains(\"Toronto\")].reset_index(drop=True)\n",
    "del(yyz_latlon)\n",
    "yyz.head()"
   ]
  },
  {
   "cell_type": "code",
   "execution_count": 34,
   "metadata": {},
   "outputs": [],
   "source": [
    "def getNearbyVenues(names, latitudes, longitudes, radius=500):\n",
    "    import requests\n",
    "    \n",
    "    CLIENT_ID = 'TIMMII4ENWJPGFZXOMRYCU250ALHWABVOYDTBWZAS4TM50XT' # your Foursquare ID\n",
    "    CLIENT_SECRET = 'AOUYJRACV2L4VXHSJW1SGMA4XFF0XKTS1H3MAWEG0FORQ1N2' # your Foursquare Secret\n",
    "    VERSION = '20180605' # Foursquare API version\n",
    "    LIMIT = 100 # A default Foursquare API limit value\n",
    "    venues_list=[]\n",
    "    for name, lat, lng in zip(names, latitudes, longitudes):\n",
    "        print(name)\n",
    "            \n",
    "        # create the API request URL\n",
    "        url = 'https://api.foursquare.com/v2/venues/explore?&client_id={}&client_secret={}&v={}&ll={},{}&radius={}&limit={}'.format(\n",
    "            CLIENT_ID, \n",
    "            CLIENT_SECRET, \n",
    "            VERSION, \n",
    "            lat, \n",
    "            lng, \n",
    "            radius, \n",
    "            LIMIT)\n",
    "            \n",
    "        # make the GET request\n",
    "        results = requests.get(url).json()[\"response\"]['groups'][0]['items']\n",
    "        \n",
    "        # return only relevant information for each nearby venue\n",
    "        venues_list.append([(\n",
    "            name, \n",
    "            lat, \n",
    "            lng, \n",
    "            v['venue']['name'], \n",
    "            v['venue']['location']['lat'], \n",
    "            v['venue']['location']['lng'],  \n",
    "            v['venue']['categories'][0]['name']) for v in results])\n",
    "\n",
    "    nearby_venues = pd.DataFrame([item for venue_list in venues_list for item in venue_list])\n",
    "    nearby_venues.columns = ['Neighborhood', \n",
    "                  'Neighborhood Latitude', \n",
    "                  'Neighborhood Longitude', \n",
    "                  'Venue', \n",
    "                  'Venue Latitude', \n",
    "                  'Venue Longitude', \n",
    "                  'Venue Category']\n",
    "    \n",
    "    return(nearby_venues)"
   ]
  },
  {
   "cell_type": "code",
   "execution_count": 35,
   "metadata": {},
   "outputs": [
    {
     "output_type": "stream",
     "name": "stdout",
     "text": [
      "The Beaches\n",
      "The Danforth West, Riverdale\n",
      "India Bazaar, The Beaches West\n",
      "Studio District\n",
      "Lawrence Park\n",
      "Davisville North\n",
      "North Toronto West, Lawrence Park\n",
      "Davisville\n",
      "Moore Park, Summerhill East\n",
      "Summerhill West, Rathnelly, South Hill, Forest Hill SE, Deer Park\n",
      "Rosedale\n",
      "St. James Town, Cabbagetown\n",
      "Church and Wellesley\n",
      "Regent Park, Harbourfront\n",
      "Garden District, Ryerson\n",
      "St. James Town\n",
      "Berczy Park\n",
      "Central Bay Street\n",
      "Richmond, Adelaide, King\n",
      "Harbourfront East, Union Station, Toronto Islands\n",
      "Toronto Dominion Centre, Design Exchange\n",
      "Commerce Court, Victoria Hotel\n",
      "Roselawn\n",
      "Forest Hill North & West, Forest Hill Road Park\n",
      "The Annex, North Midtown, Yorkville\n",
      "University of Toronto, Harbord\n",
      "Kensington Market, Chinatown, Grange Park\n",
      "CN Tower, King and Spadina, Railway Lands, Harbourfront West, Bathurst Quay, South Niagara, Island airport\n",
      "Stn A PO Boxes\n",
      "First Canadian Place, Underground city\n",
      "Christie\n",
      "Dufferin, Dovercourt Village\n",
      "Little Portugal, Trinity\n",
      "Brockton, Parkdale Village, Exhibition Place\n",
      "High Park, The Junction South\n",
      "Parkdale, Roncesvalles\n",
      "Runnymede, Swansea\n",
      "Queen's Park, Ontario Provincial Government\n",
      "Business reply mail Processing Centre, South Central Letter Processing Plant Toronto\n"
     ]
    }
   ],
   "source": [
    "# type your answer here\n",
    "toronto_venues = getNearbyVenues(names=yyz['Neighbourhood'],\n",
    "                                   latitudes=yyz['Latitude'],\n",
    "                                   longitudes=yyz['Longitude']\n",
    "                                  )"
   ]
  },
  {
   "cell_type": "code",
   "execution_count": 36,
   "metadata": {},
   "outputs": [
    {
     "output_type": "execute_result",
     "data": {
      "text/plain": [
       "                   Neighborhood  Neighborhood Latitude  \\\n",
       "0                   The Beaches              43.676357   \n",
       "1                   The Beaches              43.676357   \n",
       "2                   The Beaches              43.676357   \n",
       "3                   The Beaches              43.676357   \n",
       "4  The Danforth West, Riverdale              43.679557   \n",
       "\n",
       "   Neighborhood Longitude                               Venue  Venue Latitude  \\\n",
       "0              -79.293031                   Glen Manor Ravine       43.676821   \n",
       "1              -79.293031  The Big Carrot Natural Food Market       43.678879   \n",
       "2              -79.293031                 Grover Pub and Grub       43.679181   \n",
       "3              -79.293031                       Upper Beaches       43.680563   \n",
       "4              -79.352188                            Pantheon       43.677621   \n",
       "\n",
       "   Venue Longitude     Venue Category  \n",
       "0       -79.293942              Trail  \n",
       "1       -79.297734  Health Food Store  \n",
       "2       -79.297215                Pub  \n",
       "3       -79.292869       Neighborhood  \n",
       "4       -79.351434   Greek Restaurant  "
      ],
      "text/html": "<div>\n<style scoped>\n    .dataframe tbody tr th:only-of-type {\n        vertical-align: middle;\n    }\n\n    .dataframe tbody tr th {\n        vertical-align: top;\n    }\n\n    .dataframe thead th {\n        text-align: right;\n    }\n</style>\n<table border=\"1\" class=\"dataframe\">\n  <thead>\n    <tr style=\"text-align: right;\">\n      <th></th>\n      <th>Neighborhood</th>\n      <th>Neighborhood Latitude</th>\n      <th>Neighborhood Longitude</th>\n      <th>Venue</th>\n      <th>Venue Latitude</th>\n      <th>Venue Longitude</th>\n      <th>Venue Category</th>\n    </tr>\n  </thead>\n  <tbody>\n    <tr>\n      <th>0</th>\n      <td>The Beaches</td>\n      <td>43.676357</td>\n      <td>-79.293031</td>\n      <td>Glen Manor Ravine</td>\n      <td>43.676821</td>\n      <td>-79.293942</td>\n      <td>Trail</td>\n    </tr>\n    <tr>\n      <th>1</th>\n      <td>The Beaches</td>\n      <td>43.676357</td>\n      <td>-79.293031</td>\n      <td>The Big Carrot Natural Food Market</td>\n      <td>43.678879</td>\n      <td>-79.297734</td>\n      <td>Health Food Store</td>\n    </tr>\n    <tr>\n      <th>2</th>\n      <td>The Beaches</td>\n      <td>43.676357</td>\n      <td>-79.293031</td>\n      <td>Grover Pub and Grub</td>\n      <td>43.679181</td>\n      <td>-79.297215</td>\n      <td>Pub</td>\n    </tr>\n    <tr>\n      <th>3</th>\n      <td>The Beaches</td>\n      <td>43.676357</td>\n      <td>-79.293031</td>\n      <td>Upper Beaches</td>\n      <td>43.680563</td>\n      <td>-79.292869</td>\n      <td>Neighborhood</td>\n    </tr>\n    <tr>\n      <th>4</th>\n      <td>The Danforth West, Riverdale</td>\n      <td>43.679557</td>\n      <td>-79.352188</td>\n      <td>Pantheon</td>\n      <td>43.677621</td>\n      <td>-79.351434</td>\n      <td>Greek Restaurant</td>\n    </tr>\n  </tbody>\n</table>\n</div>"
     },
     "metadata": {},
     "execution_count": 36
    }
   ],
   "source": [
    "toronto_venues.head()"
   ]
  },
  {
   "cell_type": "code",
   "execution_count": 37,
   "metadata": {},
   "outputs": [
    {
     "output_type": "execute_result",
     "data": {
      "text/plain": [
       "   Yoga Studio  Afghan Restaurant  Airport  Airport Food Court  Airport Gate  \\\n",
       "0            0                  0        0                   0             0   \n",
       "1            0                  0        0                   0             0   \n",
       "2            0                  0        0                   0             0   \n",
       "3            0                  0        0                   0             0   \n",
       "4            0                  0        0                   0             0   \n",
       "\n",
       "   Airport Lounge  Airport Service  Airport Terminal  American Restaurant  \\\n",
       "0               0                0                 0                    0   \n",
       "1               0                0                 0                    0   \n",
       "2               0                0                 0                    0   \n",
       "3               0                0                 0                    0   \n",
       "4               0                0                 0                    0   \n",
       "\n",
       "   Antique Shop  ...  Theater  Theme Restaurant  Toy / Game Store  Trail  \\\n",
       "0             0  ...        0                 0                 0      1   \n",
       "1             0  ...        0                 0                 0      0   \n",
       "2             0  ...        0                 0                 0      0   \n",
       "3             0  ...        0                 0                 0      0   \n",
       "4             0  ...        0                 0                 0      0   \n",
       "\n",
       "   Train Station  Vegetarian / Vegan Restaurant  Video Game Store  \\\n",
       "0              0                              0                 0   \n",
       "1              0                              0                 0   \n",
       "2              0                              0                 0   \n",
       "3              0                              0                 0   \n",
       "4              0                              0                 0   \n",
       "\n",
       "   Vietnamese Restaurant  Wine Bar  Women's Store  \n",
       "0                      0         0              0  \n",
       "1                      0         0              0  \n",
       "2                      0         0              0  \n",
       "3                      0         0              0  \n",
       "4                      0         0              0  \n",
       "\n",
       "[5 rows x 240 columns]"
      ],
      "text/html": "<div>\n<style scoped>\n    .dataframe tbody tr th:only-of-type {\n        vertical-align: middle;\n    }\n\n    .dataframe tbody tr th {\n        vertical-align: top;\n    }\n\n    .dataframe thead th {\n        text-align: right;\n    }\n</style>\n<table border=\"1\" class=\"dataframe\">\n  <thead>\n    <tr style=\"text-align: right;\">\n      <th></th>\n      <th>Yoga Studio</th>\n      <th>Afghan Restaurant</th>\n      <th>Airport</th>\n      <th>Airport Food Court</th>\n      <th>Airport Gate</th>\n      <th>Airport Lounge</th>\n      <th>Airport Service</th>\n      <th>Airport Terminal</th>\n      <th>American Restaurant</th>\n      <th>Antique Shop</th>\n      <th>...</th>\n      <th>Theater</th>\n      <th>Theme Restaurant</th>\n      <th>Toy / Game Store</th>\n      <th>Trail</th>\n      <th>Train Station</th>\n      <th>Vegetarian / Vegan Restaurant</th>\n      <th>Video Game Store</th>\n      <th>Vietnamese Restaurant</th>\n      <th>Wine Bar</th>\n      <th>Women's Store</th>\n    </tr>\n  </thead>\n  <tbody>\n    <tr>\n      <th>0</th>\n      <td>0</td>\n      <td>0</td>\n      <td>0</td>\n      <td>0</td>\n      <td>0</td>\n      <td>0</td>\n      <td>0</td>\n      <td>0</td>\n      <td>0</td>\n      <td>0</td>\n      <td>...</td>\n      <td>0</td>\n      <td>0</td>\n      <td>0</td>\n      <td>1</td>\n      <td>0</td>\n      <td>0</td>\n      <td>0</td>\n      <td>0</td>\n      <td>0</td>\n      <td>0</td>\n    </tr>\n    <tr>\n      <th>1</th>\n      <td>0</td>\n      <td>0</td>\n      <td>0</td>\n      <td>0</td>\n      <td>0</td>\n      <td>0</td>\n      <td>0</td>\n      <td>0</td>\n      <td>0</td>\n      <td>0</td>\n      <td>...</td>\n      <td>0</td>\n      <td>0</td>\n      <td>0</td>\n      <td>0</td>\n      <td>0</td>\n      <td>0</td>\n      <td>0</td>\n      <td>0</td>\n      <td>0</td>\n      <td>0</td>\n    </tr>\n    <tr>\n      <th>2</th>\n      <td>0</td>\n      <td>0</td>\n      <td>0</td>\n      <td>0</td>\n      <td>0</td>\n      <td>0</td>\n      <td>0</td>\n      <td>0</td>\n      <td>0</td>\n      <td>0</td>\n      <td>...</td>\n      <td>0</td>\n      <td>0</td>\n      <td>0</td>\n      <td>0</td>\n      <td>0</td>\n      <td>0</td>\n      <td>0</td>\n      <td>0</td>\n      <td>0</td>\n      <td>0</td>\n    </tr>\n    <tr>\n      <th>3</th>\n      <td>0</td>\n      <td>0</td>\n      <td>0</td>\n      <td>0</td>\n      <td>0</td>\n      <td>0</td>\n      <td>0</td>\n      <td>0</td>\n      <td>0</td>\n      <td>0</td>\n      <td>...</td>\n      <td>0</td>\n      <td>0</td>\n      <td>0</td>\n      <td>0</td>\n      <td>0</td>\n      <td>0</td>\n      <td>0</td>\n      <td>0</td>\n      <td>0</td>\n      <td>0</td>\n    </tr>\n    <tr>\n      <th>4</th>\n      <td>0</td>\n      <td>0</td>\n      <td>0</td>\n      <td>0</td>\n      <td>0</td>\n      <td>0</td>\n      <td>0</td>\n      <td>0</td>\n      <td>0</td>\n      <td>0</td>\n      <td>...</td>\n      <td>0</td>\n      <td>0</td>\n      <td>0</td>\n      <td>0</td>\n      <td>0</td>\n      <td>0</td>\n      <td>0</td>\n      <td>0</td>\n      <td>0</td>\n      <td>0</td>\n    </tr>\n  </tbody>\n</table>\n<p>5 rows × 240 columns</p>\n</div>"
     },
     "metadata": {},
     "execution_count": 37
    }
   ],
   "source": [
    "# one hot encoding\n",
    "toronto_onehot = pd.get_dummies(toronto_venues[['Venue Category']], prefix=\"\", prefix_sep=\"\")\n",
    "\n",
    "# add neighborhood column back to dataframe\n",
    "toronto_onehot['Neighborhood'] = toronto_venues['Neighborhood'] \n",
    "\n",
    "# move neighborhood column to the first column\n",
    "fixed_columns = [toronto_onehot.columns[-1]] + list(toronto_onehot.columns[:-1])\n",
    "toronto_onehot = toronto_onehot[fixed_columns]\n",
    "\n",
    "toronto_onehot.head()"
   ]
  },
  {
   "cell_type": "code",
   "execution_count": 39,
   "metadata": {},
   "outputs": [
    {
     "output_type": "execute_result",
     "data": {
      "text/plain": [
       "                                        Neighborhood  Yoga Studio  \\\n",
       "0                                        Berczy Park     0.000000   \n",
       "1       Brockton, Parkdale Village, Exhibition Place     0.000000   \n",
       "2  Business reply mail Processing Centre, South C...     0.000000   \n",
       "3  CN Tower, King and Spadina, Railway Lands, Har...     0.000000   \n",
       "4                                 Central Bay Street     0.014706   \n",
       "\n",
       "   Afghan Restaurant   Airport  Airport Food Court  Airport Gate  \\\n",
       "0                0.0  0.000000            0.000000      0.000000   \n",
       "1                0.0  0.000000            0.000000      0.000000   \n",
       "2                0.0  0.000000            0.000000      0.000000   \n",
       "3                0.0  0.058824            0.058824      0.058824   \n",
       "4                0.0  0.000000            0.000000      0.000000   \n",
       "\n",
       "   Airport Lounge  Airport Service  Airport Terminal  American Restaurant  \\\n",
       "0        0.000000         0.000000          0.000000                  0.0   \n",
       "1        0.000000         0.000000          0.000000                  0.0   \n",
       "2        0.000000         0.000000          0.000000                  0.0   \n",
       "3        0.117647         0.117647          0.058824                  0.0   \n",
       "4        0.000000         0.000000          0.000000                  0.0   \n",
       "\n",
       "   ...  Theater  Theme Restaurant  Toy / Game Store  Trail  Train Station  \\\n",
       "0  ...      0.0               0.0               0.0    0.0            0.0   \n",
       "1  ...      0.0               0.0               0.0    0.0            0.0   \n",
       "2  ...      0.0               0.0               0.0    0.0            0.0   \n",
       "3  ...      0.0               0.0               0.0    0.0            0.0   \n",
       "4  ...      0.0               0.0               0.0    0.0            0.0   \n",
       "\n",
       "   Vegetarian / Vegan Restaurant  Video Game Store  Vietnamese Restaurant  \\\n",
       "0                       0.018182               0.0                    0.0   \n",
       "1                       0.000000               0.0                    0.0   \n",
       "2                       0.000000               0.0                    0.0   \n",
       "3                       0.000000               0.0                    0.0   \n",
       "4                       0.014706               0.0                    0.0   \n",
       "\n",
       "   Wine Bar  Women's Store  \n",
       "0  0.000000            0.0  \n",
       "1  0.000000            0.0  \n",
       "2  0.000000            0.0  \n",
       "3  0.000000            0.0  \n",
       "4  0.014706            0.0  \n",
       "\n",
       "[5 rows x 240 columns]"
      ],
      "text/html": "<div>\n<style scoped>\n    .dataframe tbody tr th:only-of-type {\n        vertical-align: middle;\n    }\n\n    .dataframe tbody tr th {\n        vertical-align: top;\n    }\n\n    .dataframe thead th {\n        text-align: right;\n    }\n</style>\n<table border=\"1\" class=\"dataframe\">\n  <thead>\n    <tr style=\"text-align: right;\">\n      <th></th>\n      <th>Neighborhood</th>\n      <th>Yoga Studio</th>\n      <th>Afghan Restaurant</th>\n      <th>Airport</th>\n      <th>Airport Food Court</th>\n      <th>Airport Gate</th>\n      <th>Airport Lounge</th>\n      <th>Airport Service</th>\n      <th>Airport Terminal</th>\n      <th>American Restaurant</th>\n      <th>...</th>\n      <th>Theater</th>\n      <th>Theme Restaurant</th>\n      <th>Toy / Game Store</th>\n      <th>Trail</th>\n      <th>Train Station</th>\n      <th>Vegetarian / Vegan Restaurant</th>\n      <th>Video Game Store</th>\n      <th>Vietnamese Restaurant</th>\n      <th>Wine Bar</th>\n      <th>Women's Store</th>\n    </tr>\n  </thead>\n  <tbody>\n    <tr>\n      <th>0</th>\n      <td>Berczy Park</td>\n      <td>0.000000</td>\n      <td>0.0</td>\n      <td>0.000000</td>\n      <td>0.000000</td>\n      <td>0.000000</td>\n      <td>0.000000</td>\n      <td>0.000000</td>\n      <td>0.000000</td>\n      <td>0.0</td>\n      <td>...</td>\n      <td>0.0</td>\n      <td>0.0</td>\n      <td>0.0</td>\n      <td>0.0</td>\n      <td>0.0</td>\n      <td>0.018182</td>\n      <td>0.0</td>\n      <td>0.0</td>\n      <td>0.000000</td>\n      <td>0.0</td>\n    </tr>\n    <tr>\n      <th>1</th>\n      <td>Brockton, Parkdale Village, Exhibition Place</td>\n      <td>0.000000</td>\n      <td>0.0</td>\n      <td>0.000000</td>\n      <td>0.000000</td>\n      <td>0.000000</td>\n      <td>0.000000</td>\n      <td>0.000000</td>\n      <td>0.000000</td>\n      <td>0.0</td>\n      <td>...</td>\n      <td>0.0</td>\n      <td>0.0</td>\n      <td>0.0</td>\n      <td>0.0</td>\n      <td>0.0</td>\n      <td>0.000000</td>\n      <td>0.0</td>\n      <td>0.0</td>\n      <td>0.000000</td>\n      <td>0.0</td>\n    </tr>\n    <tr>\n      <th>2</th>\n      <td>Business reply mail Processing Centre, South C...</td>\n      <td>0.000000</td>\n      <td>0.0</td>\n      <td>0.000000</td>\n      <td>0.000000</td>\n      <td>0.000000</td>\n      <td>0.000000</td>\n      <td>0.000000</td>\n      <td>0.000000</td>\n      <td>0.0</td>\n      <td>...</td>\n      <td>0.0</td>\n      <td>0.0</td>\n      <td>0.0</td>\n      <td>0.0</td>\n      <td>0.0</td>\n      <td>0.000000</td>\n      <td>0.0</td>\n      <td>0.0</td>\n      <td>0.000000</td>\n      <td>0.0</td>\n    </tr>\n    <tr>\n      <th>3</th>\n      <td>CN Tower, King and Spadina, Railway Lands, Har...</td>\n      <td>0.000000</td>\n      <td>0.0</td>\n      <td>0.058824</td>\n      <td>0.058824</td>\n      <td>0.058824</td>\n      <td>0.117647</td>\n      <td>0.117647</td>\n      <td>0.058824</td>\n      <td>0.0</td>\n      <td>...</td>\n      <td>0.0</td>\n      <td>0.0</td>\n      <td>0.0</td>\n      <td>0.0</td>\n      <td>0.0</td>\n      <td>0.000000</td>\n      <td>0.0</td>\n      <td>0.0</td>\n      <td>0.000000</td>\n      <td>0.0</td>\n    </tr>\n    <tr>\n      <th>4</th>\n      <td>Central Bay Street</td>\n      <td>0.014706</td>\n      <td>0.0</td>\n      <td>0.000000</td>\n      <td>0.000000</td>\n      <td>0.000000</td>\n      <td>0.000000</td>\n      <td>0.000000</td>\n      <td>0.000000</td>\n      <td>0.0</td>\n      <td>...</td>\n      <td>0.0</td>\n      <td>0.0</td>\n      <td>0.0</td>\n      <td>0.0</td>\n      <td>0.0</td>\n      <td>0.014706</td>\n      <td>0.0</td>\n      <td>0.0</td>\n      <td>0.014706</td>\n      <td>0.0</td>\n    </tr>\n  </tbody>\n</table>\n<p>5 rows × 240 columns</p>\n</div>"
     },
     "metadata": {},
     "execution_count": 39
    }
   ],
   "source": [
    "toronto_grouped = toronto_onehot.groupby('Neighborhood').mean().reset_index()\n",
    "toronto_grouped.head()"
   ]
  },
  {
   "source": [
    "### First, let's write a function to sort the venues in descending order."
   ],
   "cell_type": "markdown",
   "metadata": {}
  },
  {
   "cell_type": "code",
   "execution_count": 44,
   "metadata": {},
   "outputs": [],
   "source": [
    "def return_most_common_venues(row, num_top_venues):\n",
    "    row_categories = row.iloc[1:]\n",
    "    row_categories_sorted = row_categories.sort_values(ascending=False)\n",
    "    \n",
    "    return row_categories_sorted.index.values[0:num_top_venues]"
   ]
  },
  {
   "source": [
    "### Now let's create the new dataframe and display the top 10 venues for each neighborhood."
   ],
   "cell_type": "markdown",
   "metadata": {}
  },
  {
   "cell_type": "code",
   "execution_count": 59,
   "metadata": {},
   "outputs": [
    {
     "output_type": "execute_result",
     "data": {
      "text/plain": [
       "                                        Neighborhood 1st Most Common Venue  \\\n",
       "0                                        Berczy Park           Coffee Shop   \n",
       "1       Brockton, Parkdale Village, Exhibition Place                  Café   \n",
       "2  Business reply mail Processing Centre, South C...                  Park   \n",
       "3  CN Tower, King and Spadina, Railway Lands, Har...        Airport Lounge   \n",
       "4                                 Central Bay Street           Coffee Shop   \n",
       "\n",
       "  2nd Most Common Venue 3rd Most Common Venue 4th Most Common Venue  \\\n",
       "0        Farmers Market                Bakery              Beer Bar   \n",
       "1           Coffee Shop        Breakfast Spot             Nightclub   \n",
       "2      Recording Studio            Restaurant    Light Rail Station   \n",
       "3       Airport Service                 Plane       Harbor / Marina   \n",
       "4                  Café        Sandwich Place    Italian Restaurant   \n",
       "\n",
       "  5th Most Common Venue 6th Most Common Venue 7th Most Common Venue  \\\n",
       "0          Cocktail Bar           Cheese Shop    Seafood Restaurant   \n",
       "1          Climbing Gym                   Bar             Bookstore   \n",
       "2         Auto Workshop  Fast Food Restaurant        Farmers Market   \n",
       "3              Boutique         Boat or Ferry   Rental Car Location   \n",
       "4      Department Store   Japanese Restaurant       Thai Restaurant   \n",
       "\n",
       "  8th Most Common Venue 9th Most Common Venue 10th Most Common Venue  \n",
       "0            Restaurant         Grocery Store                    Pub  \n",
       "1         Burrito Place            Restaurant             Playground  \n",
       "2         Burrito Place           Pizza Place                Butcher  \n",
       "3                   Bar         Historic Site            Coffee Shop  \n",
       "4          Burger Joint       Bubble Tea Shop            Salad Place  "
      ],
      "text/html": "<div>\n<style scoped>\n    .dataframe tbody tr th:only-of-type {\n        vertical-align: middle;\n    }\n\n    .dataframe tbody tr th {\n        vertical-align: top;\n    }\n\n    .dataframe thead th {\n        text-align: right;\n    }\n</style>\n<table border=\"1\" class=\"dataframe\">\n  <thead>\n    <tr style=\"text-align: right;\">\n      <th></th>\n      <th>Neighborhood</th>\n      <th>1st Most Common Venue</th>\n      <th>2nd Most Common Venue</th>\n      <th>3rd Most Common Venue</th>\n      <th>4th Most Common Venue</th>\n      <th>5th Most Common Venue</th>\n      <th>6th Most Common Venue</th>\n      <th>7th Most Common Venue</th>\n      <th>8th Most Common Venue</th>\n      <th>9th Most Common Venue</th>\n      <th>10th Most Common Venue</th>\n    </tr>\n  </thead>\n  <tbody>\n    <tr>\n      <th>0</th>\n      <td>Berczy Park</td>\n      <td>Coffee Shop</td>\n      <td>Farmers Market</td>\n      <td>Bakery</td>\n      <td>Beer Bar</td>\n      <td>Cocktail Bar</td>\n      <td>Cheese Shop</td>\n      <td>Seafood Restaurant</td>\n      <td>Restaurant</td>\n      <td>Grocery Store</td>\n      <td>Pub</td>\n    </tr>\n    <tr>\n      <th>1</th>\n      <td>Brockton, Parkdale Village, Exhibition Place</td>\n      <td>Café</td>\n      <td>Coffee Shop</td>\n      <td>Breakfast Spot</td>\n      <td>Nightclub</td>\n      <td>Climbing Gym</td>\n      <td>Bar</td>\n      <td>Bookstore</td>\n      <td>Burrito Place</td>\n      <td>Restaurant</td>\n      <td>Playground</td>\n    </tr>\n    <tr>\n      <th>2</th>\n      <td>Business reply mail Processing Centre, South C...</td>\n      <td>Park</td>\n      <td>Recording Studio</td>\n      <td>Restaurant</td>\n      <td>Light Rail Station</td>\n      <td>Auto Workshop</td>\n      <td>Fast Food Restaurant</td>\n      <td>Farmers Market</td>\n      <td>Burrito Place</td>\n      <td>Pizza Place</td>\n      <td>Butcher</td>\n    </tr>\n    <tr>\n      <th>3</th>\n      <td>CN Tower, King and Spadina, Railway Lands, Har...</td>\n      <td>Airport Lounge</td>\n      <td>Airport Service</td>\n      <td>Plane</td>\n      <td>Harbor / Marina</td>\n      <td>Boutique</td>\n      <td>Boat or Ferry</td>\n      <td>Rental Car Location</td>\n      <td>Bar</td>\n      <td>Historic Site</td>\n      <td>Coffee Shop</td>\n    </tr>\n    <tr>\n      <th>4</th>\n      <td>Central Bay Street</td>\n      <td>Coffee Shop</td>\n      <td>Café</td>\n      <td>Sandwich Place</td>\n      <td>Italian Restaurant</td>\n      <td>Department Store</td>\n      <td>Japanese Restaurant</td>\n      <td>Thai Restaurant</td>\n      <td>Burger Joint</td>\n      <td>Bubble Tea Shop</td>\n      <td>Salad Place</td>\n    </tr>\n  </tbody>\n</table>\n</div>"
     },
     "metadata": {},
     "execution_count": 59
    }
   ],
   "source": [
    "num_top_venues = 10\n",
    "\n",
    "indicators = ['st', 'nd', 'rd']\n",
    "\n",
    "# create columns according to number of top venues\n",
    "columns = ['Neighborhood']\n",
    "for ind in np.arange(num_top_venues):\n",
    "    try:\n",
    "        columns.append('{}{} Most Common Venue'.format(ind+1, indicators[ind]))\n",
    "    except:\n",
    "        columns.append('{}th Most Common Venue'.format(ind+1))\n",
    "\n",
    "# create a new dataframe\n",
    "neighborhoods_venues_sorted = pd.DataFrame(columns=columns)\n",
    "neighborhoods_venues_sorted['Neighborhood'] = toronto_grouped['Neighborhood']\n",
    "\n",
    "for ind in np.arange(toronto_grouped.shape[0]):\n",
    "    neighborhoods_venues_sorted.iloc[ind, 1:] = return_most_common_venues(toronto_grouped.iloc[ind, :], num_top_venues)\n",
    "\n",
    "neighborhoods_venues_sorted.head()"
   ]
  },
  {
   "source": [
    "## Run _k_-means to cluster the neighborhood into 5 clusters."
   ],
   "cell_type": "markdown",
   "metadata": {}
  },
  {
   "cell_type": "code",
   "execution_count": 60,
   "metadata": {},
   "outputs": [
    {
     "output_type": "execute_result",
     "data": {
      "text/plain": [
       "array([0, 0, 0, 0, 0, 0, 0, 0, 0, 0], dtype=int32)"
      ]
     },
     "metadata": {},
     "execution_count": 60
    }
   ],
   "source": [
    "# import k-means from clustering stage\n",
    "from sklearn.cluster import KMeans\n",
    "\n",
    "# set number of clusters\n",
    "kclusters = 5\n",
    "\n",
    "toronto_grouped_clustering = toronto_grouped.drop('Neighborhood', 1)\n",
    "\n",
    "# run k-means clustering\n",
    "kmeans = KMeans(n_clusters=kclusters, random_state=0).fit(toronto_grouped_clustering)\n",
    "\n",
    "# check cluster labels generated for each row in the dataframe\n",
    "kmeans.labels_[0:10] "
   ]
  },
  {
   "source": [
    "### Let's create a new dataframe that includes the cluster as well as the top 10 venues for each neighborhood."
   ],
   "cell_type": "markdown",
   "metadata": {}
  },
  {
   "cell_type": "code",
   "execution_count": 61,
   "metadata": {},
   "outputs": [
    {
     "output_type": "execute_result",
     "data": {
      "text/plain": [
       "   Cluster Labels                                       Neighborhood  \\\n",
       "0               0                                        Berczy Park   \n",
       "1               0       Brockton, Parkdale Village, Exhibition Place   \n",
       "2               0  Business reply mail Processing Centre, South C...   \n",
       "3               0  CN Tower, King and Spadina, Railway Lands, Har...   \n",
       "4               0                                 Central Bay Street   \n",
       "\n",
       "  1st Most Common Venue 2nd Most Common Venue 3rd Most Common Venue  \\\n",
       "0           Coffee Shop        Farmers Market                Bakery   \n",
       "1                  Café           Coffee Shop        Breakfast Spot   \n",
       "2                  Park      Recording Studio            Restaurant   \n",
       "3        Airport Lounge       Airport Service                 Plane   \n",
       "4           Coffee Shop                  Café        Sandwich Place   \n",
       "\n",
       "  4th Most Common Venue 5th Most Common Venue 6th Most Common Venue  \\\n",
       "0              Beer Bar          Cocktail Bar           Cheese Shop   \n",
       "1             Nightclub          Climbing Gym                   Bar   \n",
       "2    Light Rail Station         Auto Workshop  Fast Food Restaurant   \n",
       "3       Harbor / Marina              Boutique         Boat or Ferry   \n",
       "4    Italian Restaurant      Department Store   Japanese Restaurant   \n",
       "\n",
       "  7th Most Common Venue 8th Most Common Venue 9th Most Common Venue  \\\n",
       "0    Seafood Restaurant            Restaurant         Grocery Store   \n",
       "1             Bookstore         Burrito Place            Restaurant   \n",
       "2        Farmers Market         Burrito Place           Pizza Place   \n",
       "3   Rental Car Location                   Bar         Historic Site   \n",
       "4       Thai Restaurant          Burger Joint       Bubble Tea Shop   \n",
       "\n",
       "  10th Most Common Venue  \n",
       "0                    Pub  \n",
       "1             Playground  \n",
       "2                Butcher  \n",
       "3            Coffee Shop  \n",
       "4            Salad Place  "
      ],
      "text/html": "<div>\n<style scoped>\n    .dataframe tbody tr th:only-of-type {\n        vertical-align: middle;\n    }\n\n    .dataframe tbody tr th {\n        vertical-align: top;\n    }\n\n    .dataframe thead th {\n        text-align: right;\n    }\n</style>\n<table border=\"1\" class=\"dataframe\">\n  <thead>\n    <tr style=\"text-align: right;\">\n      <th></th>\n      <th>Cluster Labels</th>\n      <th>Neighborhood</th>\n      <th>1st Most Common Venue</th>\n      <th>2nd Most Common Venue</th>\n      <th>3rd Most Common Venue</th>\n      <th>4th Most Common Venue</th>\n      <th>5th Most Common Venue</th>\n      <th>6th Most Common Venue</th>\n      <th>7th Most Common Venue</th>\n      <th>8th Most Common Venue</th>\n      <th>9th Most Common Venue</th>\n      <th>10th Most Common Venue</th>\n    </tr>\n  </thead>\n  <tbody>\n    <tr>\n      <th>0</th>\n      <td>0</td>\n      <td>Berczy Park</td>\n      <td>Coffee Shop</td>\n      <td>Farmers Market</td>\n      <td>Bakery</td>\n      <td>Beer Bar</td>\n      <td>Cocktail Bar</td>\n      <td>Cheese Shop</td>\n      <td>Seafood Restaurant</td>\n      <td>Restaurant</td>\n      <td>Grocery Store</td>\n      <td>Pub</td>\n    </tr>\n    <tr>\n      <th>1</th>\n      <td>0</td>\n      <td>Brockton, Parkdale Village, Exhibition Place</td>\n      <td>Café</td>\n      <td>Coffee Shop</td>\n      <td>Breakfast Spot</td>\n      <td>Nightclub</td>\n      <td>Climbing Gym</td>\n      <td>Bar</td>\n      <td>Bookstore</td>\n      <td>Burrito Place</td>\n      <td>Restaurant</td>\n      <td>Playground</td>\n    </tr>\n    <tr>\n      <th>2</th>\n      <td>0</td>\n      <td>Business reply mail Processing Centre, South C...</td>\n      <td>Park</td>\n      <td>Recording Studio</td>\n      <td>Restaurant</td>\n      <td>Light Rail Station</td>\n      <td>Auto Workshop</td>\n      <td>Fast Food Restaurant</td>\n      <td>Farmers Market</td>\n      <td>Burrito Place</td>\n      <td>Pizza Place</td>\n      <td>Butcher</td>\n    </tr>\n    <tr>\n      <th>3</th>\n      <td>0</td>\n      <td>CN Tower, King and Spadina, Railway Lands, Har...</td>\n      <td>Airport Lounge</td>\n      <td>Airport Service</td>\n      <td>Plane</td>\n      <td>Harbor / Marina</td>\n      <td>Boutique</td>\n      <td>Boat or Ferry</td>\n      <td>Rental Car Location</td>\n      <td>Bar</td>\n      <td>Historic Site</td>\n      <td>Coffee Shop</td>\n    </tr>\n    <tr>\n      <th>4</th>\n      <td>0</td>\n      <td>Central Bay Street</td>\n      <td>Coffee Shop</td>\n      <td>Café</td>\n      <td>Sandwich Place</td>\n      <td>Italian Restaurant</td>\n      <td>Department Store</td>\n      <td>Japanese Restaurant</td>\n      <td>Thai Restaurant</td>\n      <td>Burger Joint</td>\n      <td>Bubble Tea Shop</td>\n      <td>Salad Place</td>\n    </tr>\n  </tbody>\n</table>\n</div>"
     },
     "metadata": {},
     "execution_count": 61
    }
   ],
   "source": [
    "# add clustering labels\n",
    "neighborhoods_venues_sorted.insert(0, 'Cluster Labels', kmeans.labels_)\n",
    "neighborhoods_venues_sorted.head()"
   ]
  },
  {
   "cell_type": "code",
   "execution_count": 69,
   "metadata": {},
   "outputs": [
    {
     "output_type": "execute_result",
     "data": {
      "text/plain": [
       "  Postal Code          Borough                   Neighbourhood   Latitude  \\\n",
       "0         M4E     East Toronto                     The Beaches  43.676357   \n",
       "1         M4K     East Toronto    The Danforth West, Riverdale  43.679557   \n",
       "2         M4L     East Toronto  India Bazaar, The Beaches West  43.668999   \n",
       "3         M4M     East Toronto                 Studio District  43.659526   \n",
       "4         M4N  Central Toronto                   Lawrence Park  43.728020   \n",
       "\n",
       "   Longitude  Cluster Labels                    Neighborhood  \\\n",
       "0 -79.293031               1                     The Beaches   \n",
       "1 -79.352188               0    The Danforth West, Riverdale   \n",
       "2 -79.315572               0  India Bazaar, The Beaches West   \n",
       "3 -79.340923               0                 Studio District   \n",
       "4 -79.388790               3                   Lawrence Park   \n",
       "\n",
       "  1st Most Common Venue 2nd Most Common Venue 3rd Most Common Venue  \\\n",
       "0     Health Food Store                   Pub                 Trail   \n",
       "1      Greek Restaurant           Coffee Shop    Italian Restaurant   \n",
       "2                  Park           Pizza Place        Ice Cream Shop   \n",
       "3           Coffee Shop                Bakery             Gastropub   \n",
       "4                  Park           Swim School              Bus Line   \n",
       "\n",
       "         4th Most Common Venue   5th Most Common Venue 6th Most Common Venue  \\\n",
       "0                     Dive Bar            Dessert Shop    Dim Sum Restaurant   \n",
       "1                   Restaurant  Furniture / Home Store             Bookstore   \n",
       "2                          Pub       Fish & Chips Shop            Steakhouse   \n",
       "3                      Brewery                    Café   American Restaurant   \n",
       "4  Eastern European Restaurant     Dumpling Restaurant            Donut Shop   \n",
       "\n",
       "  7th Most Common Venue 8th Most Common Venue 9th Most Common Venue  \\\n",
       "0                 Diner        Discount Store   Distribution Center   \n",
       "1        Cosmetics Shop        Ice Cream Shop                   Pub   \n",
       "2      Sushi Restaurant         Burrito Place            Restaurant   \n",
       "3     Convenience Store    Seafood Restaurant           Cheese Shop   \n",
       "4      Doner Restaurant               Dog Run              Dive Bar   \n",
       "\n",
       "  10th Most Common Venue  \n",
       "0          Women's Store  \n",
       "1            Pizza Place  \n",
       "2     Italian Restaurant  \n",
       "3         Clothing Store  \n",
       "4    Distribution Center  "
      ],
      "text/html": "<div>\n<style scoped>\n    .dataframe tbody tr th:only-of-type {\n        vertical-align: middle;\n    }\n\n    .dataframe tbody tr th {\n        vertical-align: top;\n    }\n\n    .dataframe thead th {\n        text-align: right;\n    }\n</style>\n<table border=\"1\" class=\"dataframe\">\n  <thead>\n    <tr style=\"text-align: right;\">\n      <th></th>\n      <th>Postal Code</th>\n      <th>Borough</th>\n      <th>Neighbourhood</th>\n      <th>Latitude</th>\n      <th>Longitude</th>\n      <th>Cluster Labels</th>\n      <th>Neighborhood</th>\n      <th>1st Most Common Venue</th>\n      <th>2nd Most Common Venue</th>\n      <th>3rd Most Common Venue</th>\n      <th>4th Most Common Venue</th>\n      <th>5th Most Common Venue</th>\n      <th>6th Most Common Venue</th>\n      <th>7th Most Common Venue</th>\n      <th>8th Most Common Venue</th>\n      <th>9th Most Common Venue</th>\n      <th>10th Most Common Venue</th>\n    </tr>\n  </thead>\n  <tbody>\n    <tr>\n      <th>0</th>\n      <td>M4E</td>\n      <td>East Toronto</td>\n      <td>The Beaches</td>\n      <td>43.676357</td>\n      <td>-79.293031</td>\n      <td>1</td>\n      <td>The Beaches</td>\n      <td>Health Food Store</td>\n      <td>Pub</td>\n      <td>Trail</td>\n      <td>Dive Bar</td>\n      <td>Dessert Shop</td>\n      <td>Dim Sum Restaurant</td>\n      <td>Diner</td>\n      <td>Discount Store</td>\n      <td>Distribution Center</td>\n      <td>Women's Store</td>\n    </tr>\n    <tr>\n      <th>1</th>\n      <td>M4K</td>\n      <td>East Toronto</td>\n      <td>The Danforth West, Riverdale</td>\n      <td>43.679557</td>\n      <td>-79.352188</td>\n      <td>0</td>\n      <td>The Danforth West, Riverdale</td>\n      <td>Greek Restaurant</td>\n      <td>Coffee Shop</td>\n      <td>Italian Restaurant</td>\n      <td>Restaurant</td>\n      <td>Furniture / Home Store</td>\n      <td>Bookstore</td>\n      <td>Cosmetics Shop</td>\n      <td>Ice Cream Shop</td>\n      <td>Pub</td>\n      <td>Pizza Place</td>\n    </tr>\n    <tr>\n      <th>2</th>\n      <td>M4L</td>\n      <td>East Toronto</td>\n      <td>India Bazaar, The Beaches West</td>\n      <td>43.668999</td>\n      <td>-79.315572</td>\n      <td>0</td>\n      <td>India Bazaar, The Beaches West</td>\n      <td>Park</td>\n      <td>Pizza Place</td>\n      <td>Ice Cream Shop</td>\n      <td>Pub</td>\n      <td>Fish &amp; Chips Shop</td>\n      <td>Steakhouse</td>\n      <td>Sushi Restaurant</td>\n      <td>Burrito Place</td>\n      <td>Restaurant</td>\n      <td>Italian Restaurant</td>\n    </tr>\n    <tr>\n      <th>3</th>\n      <td>M4M</td>\n      <td>East Toronto</td>\n      <td>Studio District</td>\n      <td>43.659526</td>\n      <td>-79.340923</td>\n      <td>0</td>\n      <td>Studio District</td>\n      <td>Coffee Shop</td>\n      <td>Bakery</td>\n      <td>Gastropub</td>\n      <td>Brewery</td>\n      <td>Café</td>\n      <td>American Restaurant</td>\n      <td>Convenience Store</td>\n      <td>Seafood Restaurant</td>\n      <td>Cheese Shop</td>\n      <td>Clothing Store</td>\n    </tr>\n    <tr>\n      <th>4</th>\n      <td>M4N</td>\n      <td>Central Toronto</td>\n      <td>Lawrence Park</td>\n      <td>43.728020</td>\n      <td>-79.388790</td>\n      <td>3</td>\n      <td>Lawrence Park</td>\n      <td>Park</td>\n      <td>Swim School</td>\n      <td>Bus Line</td>\n      <td>Eastern European Restaurant</td>\n      <td>Dumpling Restaurant</td>\n      <td>Donut Shop</td>\n      <td>Doner Restaurant</td>\n      <td>Dog Run</td>\n      <td>Dive Bar</td>\n      <td>Distribution Center</td>\n    </tr>\n  </tbody>\n</table>\n</div>"
     },
     "metadata": {},
     "execution_count": 69
    }
   ],
   "source": [
    "toronto_merged = yyz\n",
    "\n",
    "# merge manhattan_grouped with manhattan_data to add latitude/longitude for each neighborhood\n",
    "toronto_merged = toronto_merged.merge(neighborhoods_venues_sorted, left_on='Neighbourhood', right_on='Neighborhood', how='inner')\n",
    "\n",
    "toronto_merged.head() # check the last columns!"
   ]
  },
  {
   "cell_type": "code",
   "execution_count": 74,
   "metadata": {},
   "outputs": [
    {
     "output_type": "execute_result",
     "data": {
      "text/plain": [
       "<folium.folium.Map at 0x7fd6ac58fb20>"
      ],
      "text/html": "<div style=\"width:100%;\"><div style=\"position:relative;width:100%;height:0;padding-bottom:60%;\"><span style=\"color:#565656\">Make this Notebook Trusted to load map: File -> Trust Notebook</span><iframe src=\"about:blank\" style=\"position:absolute;width:100%;height:100%;left:0;top:0;border:none !important;\" data-html=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 onload=\"this.contentDocument.open();this.contentDocument.write(atob(this.getAttribute('data-html')));this.contentDocument.close();\" allowfullscreen webkitallowfullscreen mozallowfullscreen></iframe></div></div>"
     },
     "metadata": {},
     "execution_count": 74
    }
   ],
   "source": [
    "# Matplotlib and associated plotting modules\n",
    "import matplotlib.cm as cm\n",
    "import matplotlib.colors as colors\n",
    "\n",
    "import folium # map rendering library\n",
    "\n",
    "# create map\n",
    "map_clusters = folium.Map(location=[toronto_merged['Latitude'].mean(), toronto_merged['Longitude'].mean()], zoom_start=11)\n",
    "\n",
    "# set color scheme for the clusters\n",
    "x = np.arange(kclusters)\n",
    "ys = [i + x + (i*x)**2 for i in range(kclusters)]\n",
    "colors_array = cm.rainbow(np.linspace(0, 1, len(ys)))\n",
    "rainbow = [colors.rgb2hex(i) for i in colors_array]\n",
    "\n",
    "# add markers to the map\n",
    "markers_colors = []\n",
    "for lat, lon, poi, cluster in zip(toronto_merged['Latitude'], toronto_merged['Longitude'], toronto_merged['Neighborhood'], toronto_merged['Cluster Labels']):\n",
    "    label = folium.Popup(str(poi) + ' Cluster ' + str(cluster), parse_html=True)\n",
    "    folium.CircleMarker(\n",
    "        [lat, lon],\n",
    "        radius=5,\n",
    "        popup=label,\n",
    "        color=rainbow[cluster-1],\n",
    "        fill=True,\n",
    "        fill_color=rainbow[cluster-1],\n",
    "        fill_opacity=0.7).add_to(map_clusters)\n",
    "       \n",
    "map_clusters"
   ]
  }
 ],
 "metadata": {
  "kernelspec": {
   "display_name": "Python 3",
   "language": "python",
   "name": "python3"
  },
  "language_info": {
   "codemirror_mode": {
    "name": "ipython",
    "version": 3
   },
   "file_extension": ".py",
   "mimetype": "text/x-python",
   "name": "python",
   "nbconvert_exporter": "python",
   "pygments_lexer": "ipython3",
   "version": "3.9.0-final"
  }
 },
 "nbformat": 4,
 "nbformat_minor": 4
}