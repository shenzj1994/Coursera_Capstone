{
 "cells": [
  {
   "cell_type": "markdown",
   "metadata": {},
   "source": [
    "# Week 3 Part 3"
   ]
  },
  {
   "cell_type": "code",
   "execution_count": 1,
   "metadata": {},
   "outputs": [],
   "source": [
    "import pandas as pd\n",
    "import numpy as np"
   ]
  },
  {
   "cell_type": "code",
   "execution_count": 2,
   "metadata": {},
   "outputs": [
    {
     "output_type": "execute_result",
     "data": {
      "text/plain": [
       "  Postal Code          Borough                   Neighbourhood   Latitude  \\\n",
       "0         M4E     East Toronto                     The Beaches  43.676357   \n",
       "1         M4K     East Toronto    The Danforth West, Riverdale  43.679557   \n",
       "2         M4L     East Toronto  India Bazaar, The Beaches West  43.668999   \n",
       "3         M4M     East Toronto                 Studio District  43.659526   \n",
       "4         M4N  Central Toronto                   Lawrence Park  43.728020   \n",
       "\n",
       "   Longitude  \n",
       "0 -79.293031  \n",
       "1 -79.352188  \n",
       "2 -79.315572  \n",
       "3 -79.340923  \n",
       "4 -79.388790  "
      ],
      "text/html": "<div>\n<style scoped>\n    .dataframe tbody tr th:only-of-type {\n        vertical-align: middle;\n    }\n\n    .dataframe tbody tr th {\n        vertical-align: top;\n    }\n\n    .dataframe thead th {\n        text-align: right;\n    }\n</style>\n<table border=\"1\" class=\"dataframe\">\n  <thead>\n    <tr style=\"text-align: right;\">\n      <th></th>\n      <th>Postal Code</th>\n      <th>Borough</th>\n      <th>Neighbourhood</th>\n      <th>Latitude</th>\n      <th>Longitude</th>\n    </tr>\n  </thead>\n  <tbody>\n    <tr>\n      <th>0</th>\n      <td>M4E</td>\n      <td>East Toronto</td>\n      <td>The Beaches</td>\n      <td>43.676357</td>\n      <td>-79.293031</td>\n    </tr>\n    <tr>\n      <th>1</th>\n      <td>M4K</td>\n      <td>East Toronto</td>\n      <td>The Danforth West, Riverdale</td>\n      <td>43.679557</td>\n      <td>-79.352188</td>\n    </tr>\n    <tr>\n      <th>2</th>\n      <td>M4L</td>\n      <td>East Toronto</td>\n      <td>India Bazaar, The Beaches West</td>\n      <td>43.668999</td>\n      <td>-79.315572</td>\n    </tr>\n    <tr>\n      <th>3</th>\n      <td>M4M</td>\n      <td>East Toronto</td>\n      <td>Studio District</td>\n      <td>43.659526</td>\n      <td>-79.340923</td>\n    </tr>\n    <tr>\n      <th>4</th>\n      <td>M4N</td>\n      <td>Central Toronto</td>\n      <td>Lawrence Park</td>\n      <td>43.728020</td>\n      <td>-79.388790</td>\n    </tr>\n  </tbody>\n</table>\n</div>"
     },
     "metadata": {},
     "execution_count": 2
    }
   ],
   "source": [
    "# Read prepared data from CSV\n",
    "yyz_latlon = pd.read_csv('yyz_neighbour_latlon.csv')\n",
    "\n",
    "# Keep only those rows have 'Toronto' in their Borough column\n",
    "yyz = yyz_latlon[yyz_latlon['Borough'].str.contains(\"Toronto\")].reset_index(drop=True)\n",
    "del(yyz_latlon)\n",
    "yyz.head()"
   ]
  },
  {
   "source": [
    "## Define a method to get nearby venues of a specific coordinate"
   ],
   "cell_type": "markdown",
   "metadata": {}
  },
  {
   "cell_type": "code",
   "execution_count": 3,
   "metadata": {},
   "outputs": [],
   "source": [
    "def getNearbyVenues(names, latitudes, longitudes, radius=500):\n",
    "    import requests\n",
    "    \n",
    "    CLIENT_ID = 'TIMMII4ENWJPGFZXOMRYCU250ALHWABVOYDTBWZAS4TM50XT' # your Foursquare ID\n",
    "    CLIENT_SECRET = 'AOUYJRACV2L4VXHSJW1SGMA4XFF0XKTS1H3MAWEG0FORQ1N2' # your Foursquare Secret\n",
    "    VERSION = '20180605' # Foursquare API version\n",
    "    LIMIT = 100 # A default Foursquare API limit value\n",
    "    venues_list=[]\n",
    "    for name, lat, lng in zip(names, latitudes, longitudes):\n",
    "        print(name)\n",
    "            \n",
    "        # create the API request URL\n",
    "        url = 'https://api.foursquare.com/v2/venues/explore?&client_id={}&client_secret={}&v={}&ll={},{}&radius={}&limit={}'.format(\n",
    "            CLIENT_ID, \n",
    "            CLIENT_SECRET, \n",
    "            VERSION, \n",
    "            lat, \n",
    "            lng, \n",
    "            radius, \n",
    "            LIMIT)\n",
    "            \n",
    "        # make the GET request\n",
    "        results = requests.get(url).json()[\"response\"]['groups'][0]['items']\n",
    "        \n",
    "        # return only relevant information for each nearby venue\n",
    "        venues_list.append([(\n",
    "            name, \n",
    "            lat, \n",
    "            lng, \n",
    "            v['venue']['name'], \n",
    "            v['venue']['location']['lat'], \n",
    "            v['venue']['location']['lng'],  \n",
    "            v['venue']['categories'][0]['name']) for v in results])\n",
    "\n",
    "    nearby_venues = pd.DataFrame([item for venue_list in venues_list for item in venue_list])\n",
    "    nearby_venues.columns = ['Neighborhood', \n",
    "                  'Neighborhood Latitude', \n",
    "                  'Neighborhood Longitude', \n",
    "                  'Venue', \n",
    "                  'Venue Latitude', \n",
    "                  'Venue Longitude', \n",
    "                  'Venue Category']\n",
    "    \n",
    "    return(nearby_venues)"
   ]
  },
  {
   "source": [
    "## Iterate through each neighbourhood"
   ],
   "cell_type": "markdown",
   "metadata": {}
  },
  {
   "cell_type": "code",
   "execution_count": 4,
   "metadata": {},
   "outputs": [
    {
     "output_type": "stream",
     "name": "stdout",
     "text": [
      "The Beaches\n",
      "The Danforth West, Riverdale\n",
      "India Bazaar, The Beaches West\n",
      "Studio District\n",
      "Lawrence Park\n",
      "Davisville North\n",
      "North Toronto West, Lawrence Park\n",
      "Davisville\n",
      "Moore Park, Summerhill East\n",
      "Summerhill West, Rathnelly, South Hill, Forest Hill SE, Deer Park\n",
      "Rosedale\n",
      "St. James Town, Cabbagetown\n",
      "Church and Wellesley\n",
      "Regent Park, Harbourfront\n",
      "Garden District, Ryerson\n",
      "St. James Town\n",
      "Berczy Park\n",
      "Central Bay Street\n",
      "Richmond, Adelaide, King\n",
      "Harbourfront East, Union Station, Toronto Islands\n",
      "Toronto Dominion Centre, Design Exchange\n",
      "Commerce Court, Victoria Hotel\n",
      "Roselawn\n",
      "Forest Hill North & West, Forest Hill Road Park\n",
      "The Annex, North Midtown, Yorkville\n",
      "University of Toronto, Harbord\n",
      "Kensington Market, Chinatown, Grange Park\n",
      "CN Tower, King and Spadina, Railway Lands, Harbourfront West, Bathurst Quay, South Niagara, Island airport\n",
      "Stn A PO Boxes\n",
      "First Canadian Place, Underground city\n",
      "Christie\n",
      "Dufferin, Dovercourt Village\n",
      "Little Portugal, Trinity\n",
      "Brockton, Parkdale Village, Exhibition Place\n",
      "High Park, The Junction South\n",
      "Parkdale, Roncesvalles\n",
      "Runnymede, Swansea\n",
      "Queen's Park, Ontario Provincial Government\n",
      "Business reply mail Processing Centre, South Central Letter Processing Plant Toronto\n"
     ]
    }
   ],
   "source": [
    "# type your answer here\n",
    "toronto_venues = getNearbyVenues(names=yyz['Neighbourhood'],\n",
    "                                   latitudes=yyz['Latitude'],\n",
    "                                   longitudes=yyz['Longitude']\n",
    "                                  )"
   ]
  },
  {
   "cell_type": "code",
   "execution_count": 5,
   "metadata": {},
   "outputs": [
    {
     "output_type": "execute_result",
     "data": {
      "text/plain": [
       "                   Neighborhood  Neighborhood Latitude  \\\n",
       "0                   The Beaches              43.676357   \n",
       "1                   The Beaches              43.676357   \n",
       "2                   The Beaches              43.676357   \n",
       "3                   The Beaches              43.676357   \n",
       "4  The Danforth West, Riverdale              43.679557   \n",
       "\n",
       "   Neighborhood Longitude                               Venue  Venue Latitude  \\\n",
       "0              -79.293031                   Glen Manor Ravine       43.676821   \n",
       "1              -79.293031  The Big Carrot Natural Food Market       43.678879   \n",
       "2              -79.293031                 Grover Pub and Grub       43.679181   \n",
       "3              -79.293031                       Upper Beaches       43.680563   \n",
       "4              -79.352188                            Pantheon       43.677621   \n",
       "\n",
       "   Venue Longitude     Venue Category  \n",
       "0       -79.293942              Trail  \n",
       "1       -79.297734  Health Food Store  \n",
       "2       -79.297215                Pub  \n",
       "3       -79.292869       Neighborhood  \n",
       "4       -79.351434   Greek Restaurant  "
      ],
      "text/html": "<div>\n<style scoped>\n    .dataframe tbody tr th:only-of-type {\n        vertical-align: middle;\n    }\n\n    .dataframe tbody tr th {\n        vertical-align: top;\n    }\n\n    .dataframe thead th {\n        text-align: right;\n    }\n</style>\n<table border=\"1\" class=\"dataframe\">\n  <thead>\n    <tr style=\"text-align: right;\">\n      <th></th>\n      <th>Neighborhood</th>\n      <th>Neighborhood Latitude</th>\n      <th>Neighborhood Longitude</th>\n      <th>Venue</th>\n      <th>Venue Latitude</th>\n      <th>Venue Longitude</th>\n      <th>Venue Category</th>\n    </tr>\n  </thead>\n  <tbody>\n    <tr>\n      <th>0</th>\n      <td>The Beaches</td>\n      <td>43.676357</td>\n      <td>-79.293031</td>\n      <td>Glen Manor Ravine</td>\n      <td>43.676821</td>\n      <td>-79.293942</td>\n      <td>Trail</td>\n    </tr>\n    <tr>\n      <th>1</th>\n      <td>The Beaches</td>\n      <td>43.676357</td>\n      <td>-79.293031</td>\n      <td>The Big Carrot Natural Food Market</td>\n      <td>43.678879</td>\n      <td>-79.297734</td>\n      <td>Health Food Store</td>\n    </tr>\n    <tr>\n      <th>2</th>\n      <td>The Beaches</td>\n      <td>43.676357</td>\n      <td>-79.293031</td>\n      <td>Grover Pub and Grub</td>\n      <td>43.679181</td>\n      <td>-79.297215</td>\n      <td>Pub</td>\n    </tr>\n    <tr>\n      <th>3</th>\n      <td>The Beaches</td>\n      <td>43.676357</td>\n      <td>-79.293031</td>\n      <td>Upper Beaches</td>\n      <td>43.680563</td>\n      <td>-79.292869</td>\n      <td>Neighborhood</td>\n    </tr>\n    <tr>\n      <th>4</th>\n      <td>The Danforth West, Riverdale</td>\n      <td>43.679557</td>\n      <td>-79.352188</td>\n      <td>Pantheon</td>\n      <td>43.677621</td>\n      <td>-79.351434</td>\n      <td>Greek Restaurant</td>\n    </tr>\n  </tbody>\n</table>\n</div>"
     },
     "metadata": {},
     "execution_count": 5
    }
   ],
   "source": [
    "toronto_venues.head()"
   ]
  },
  {
   "source": [
    "## Hot encode venue categories"
   ],
   "cell_type": "markdown",
   "metadata": {}
  },
  {
   "cell_type": "code",
   "execution_count": 6,
   "metadata": {},
   "outputs": [
    {
     "output_type": "execute_result",
     "data": {
      "text/plain": [
       "   Yoga Studio  Afghan Restaurant  Airport  Airport Food Court  Airport Gate  \\\n",
       "0            0                  0        0                   0             0   \n",
       "1            0                  0        0                   0             0   \n",
       "2            0                  0        0                   0             0   \n",
       "3            0                  0        0                   0             0   \n",
       "4            0                  0        0                   0             0   \n",
       "\n",
       "   Airport Lounge  Airport Service  Airport Terminal  American Restaurant  \\\n",
       "0               0                0                 0                    0   \n",
       "1               0                0                 0                    0   \n",
       "2               0                0                 0                    0   \n",
       "3               0                0                 0                    0   \n",
       "4               0                0                 0                    0   \n",
       "\n",
       "   Antique Shop  ...  Theater  Theme Restaurant  Toy / Game Store  Trail  \\\n",
       "0             0  ...        0                 0                 0      1   \n",
       "1             0  ...        0                 0                 0      0   \n",
       "2             0  ...        0                 0                 0      0   \n",
       "3             0  ...        0                 0                 0      0   \n",
       "4             0  ...        0                 0                 0      0   \n",
       "\n",
       "   Train Station  Vegetarian / Vegan Restaurant  Video Game Store  \\\n",
       "0              0                              0                 0   \n",
       "1              0                              0                 0   \n",
       "2              0                              0                 0   \n",
       "3              0                              0                 0   \n",
       "4              0                              0                 0   \n",
       "\n",
       "   Vietnamese Restaurant  Wine Bar  Women's Store  \n",
       "0                      0         0              0  \n",
       "1                      0         0              0  \n",
       "2                      0         0              0  \n",
       "3                      0         0              0  \n",
       "4                      0         0              0  \n",
       "\n",
       "[5 rows x 237 columns]"
      ],
      "text/html": "<div>\n<style scoped>\n    .dataframe tbody tr th:only-of-type {\n        vertical-align: middle;\n    }\n\n    .dataframe tbody tr th {\n        vertical-align: top;\n    }\n\n    .dataframe thead th {\n        text-align: right;\n    }\n</style>\n<table border=\"1\" class=\"dataframe\">\n  <thead>\n    <tr style=\"text-align: right;\">\n      <th></th>\n      <th>Yoga Studio</th>\n      <th>Afghan Restaurant</th>\n      <th>Airport</th>\n      <th>Airport Food Court</th>\n      <th>Airport Gate</th>\n      <th>Airport Lounge</th>\n      <th>Airport Service</th>\n      <th>Airport Terminal</th>\n      <th>American Restaurant</th>\n      <th>Antique Shop</th>\n      <th>...</th>\n      <th>Theater</th>\n      <th>Theme Restaurant</th>\n      <th>Toy / Game Store</th>\n      <th>Trail</th>\n      <th>Train Station</th>\n      <th>Vegetarian / Vegan Restaurant</th>\n      <th>Video Game Store</th>\n      <th>Vietnamese Restaurant</th>\n      <th>Wine Bar</th>\n      <th>Women's Store</th>\n    </tr>\n  </thead>\n  <tbody>\n    <tr>\n      <th>0</th>\n      <td>0</td>\n      <td>0</td>\n      <td>0</td>\n      <td>0</td>\n      <td>0</td>\n      <td>0</td>\n      <td>0</td>\n      <td>0</td>\n      <td>0</td>\n      <td>0</td>\n      <td>...</td>\n      <td>0</td>\n      <td>0</td>\n      <td>0</td>\n      <td>1</td>\n      <td>0</td>\n      <td>0</td>\n      <td>0</td>\n      <td>0</td>\n      <td>0</td>\n      <td>0</td>\n    </tr>\n    <tr>\n      <th>1</th>\n      <td>0</td>\n      <td>0</td>\n      <td>0</td>\n      <td>0</td>\n      <td>0</td>\n      <td>0</td>\n      <td>0</td>\n      <td>0</td>\n      <td>0</td>\n      <td>0</td>\n      <td>...</td>\n      <td>0</td>\n      <td>0</td>\n      <td>0</td>\n      <td>0</td>\n      <td>0</td>\n      <td>0</td>\n      <td>0</td>\n      <td>0</td>\n      <td>0</td>\n      <td>0</td>\n    </tr>\n    <tr>\n      <th>2</th>\n      <td>0</td>\n      <td>0</td>\n      <td>0</td>\n      <td>0</td>\n      <td>0</td>\n      <td>0</td>\n      <td>0</td>\n      <td>0</td>\n      <td>0</td>\n      <td>0</td>\n      <td>...</td>\n      <td>0</td>\n      <td>0</td>\n      <td>0</td>\n      <td>0</td>\n      <td>0</td>\n      <td>0</td>\n      <td>0</td>\n      <td>0</td>\n      <td>0</td>\n      <td>0</td>\n    </tr>\n    <tr>\n      <th>3</th>\n      <td>0</td>\n      <td>0</td>\n      <td>0</td>\n      <td>0</td>\n      <td>0</td>\n      <td>0</td>\n      <td>0</td>\n      <td>0</td>\n      <td>0</td>\n      <td>0</td>\n      <td>...</td>\n      <td>0</td>\n      <td>0</td>\n      <td>0</td>\n      <td>0</td>\n      <td>0</td>\n      <td>0</td>\n      <td>0</td>\n      <td>0</td>\n      <td>0</td>\n      <td>0</td>\n    </tr>\n    <tr>\n      <th>4</th>\n      <td>0</td>\n      <td>0</td>\n      <td>0</td>\n      <td>0</td>\n      <td>0</td>\n      <td>0</td>\n      <td>0</td>\n      <td>0</td>\n      <td>0</td>\n      <td>0</td>\n      <td>...</td>\n      <td>0</td>\n      <td>0</td>\n      <td>0</td>\n      <td>0</td>\n      <td>0</td>\n      <td>0</td>\n      <td>0</td>\n      <td>0</td>\n      <td>0</td>\n      <td>0</td>\n    </tr>\n  </tbody>\n</table>\n<p>5 rows × 237 columns</p>\n</div>"
     },
     "metadata": {},
     "execution_count": 6
    }
   ],
   "source": [
    "# one hot encoding\n",
    "toronto_onehot = pd.get_dummies(toronto_venues[['Venue Category']], prefix=\"\", prefix_sep=\"\")\n",
    "\n",
    "# add neighborhood column back to dataframe\n",
    "toronto_onehot['Neighborhood'] = toronto_venues['Neighborhood'] \n",
    "\n",
    "# move neighborhood column to the first column\n",
    "fixed_columns = [toronto_onehot.columns[-1]] + list(toronto_onehot.columns[:-1])\n",
    "toronto_onehot = toronto_onehot[fixed_columns]\n",
    "\n",
    "toronto_onehot.head()"
   ]
  },
  {
   "cell_type": "code",
   "execution_count": 7,
   "metadata": {},
   "outputs": [
    {
     "output_type": "execute_result",
     "data": {
      "text/plain": [
       "                                        Neighborhood  Yoga Studio  \\\n",
       "0                                        Berczy Park     0.000000   \n",
       "1       Brockton, Parkdale Village, Exhibition Place     0.000000   \n",
       "2  Business reply mail Processing Centre, South C...     0.000000   \n",
       "3  CN Tower, King and Spadina, Railway Lands, Har...     0.000000   \n",
       "4                                 Central Bay Street     0.014706   \n",
       "\n",
       "   Afghan Restaurant  Airport  Airport Food Court  Airport Gate  \\\n",
       "0                0.0   0.0000              0.0000        0.0000   \n",
       "1                0.0   0.0000              0.0000        0.0000   \n",
       "2                0.0   0.0000              0.0000        0.0000   \n",
       "3                0.0   0.0625              0.0625        0.0625   \n",
       "4                0.0   0.0000              0.0000        0.0000   \n",
       "\n",
       "   Airport Lounge  Airport Service  Airport Terminal  American Restaurant  \\\n",
       "0           0.000            0.000            0.0000                  0.0   \n",
       "1           0.000            0.000            0.0000                  0.0   \n",
       "2           0.000            0.000            0.0000                  0.0   \n",
       "3           0.125            0.125            0.0625                  0.0   \n",
       "4           0.000            0.000            0.0000                  0.0   \n",
       "\n",
       "   ...  Theater  Theme Restaurant  Toy / Game Store  Trail  Train Station  \\\n",
       "0  ...      0.0               0.0               0.0    0.0            0.0   \n",
       "1  ...      0.0               0.0               0.0    0.0            0.0   \n",
       "2  ...      0.0               0.0               0.0    0.0            0.0   \n",
       "3  ...      0.0               0.0               0.0    0.0            0.0   \n",
       "4  ...      0.0               0.0               0.0    0.0            0.0   \n",
       "\n",
       "   Vegetarian / Vegan Restaurant  Video Game Store  Vietnamese Restaurant  \\\n",
       "0                       0.018182               0.0                    0.0   \n",
       "1                       0.000000               0.0                    0.0   \n",
       "2                       0.000000               0.0                    0.0   \n",
       "3                       0.000000               0.0                    0.0   \n",
       "4                       0.014706               0.0                    0.0   \n",
       "\n",
       "   Wine Bar  Women's Store  \n",
       "0  0.000000            0.0  \n",
       "1  0.000000            0.0  \n",
       "2  0.000000            0.0  \n",
       "3  0.000000            0.0  \n",
       "4  0.014706            0.0  \n",
       "\n",
       "[5 rows x 237 columns]"
      ],
      "text/html": "<div>\n<style scoped>\n    .dataframe tbody tr th:only-of-type {\n        vertical-align: middle;\n    }\n\n    .dataframe tbody tr th {\n        vertical-align: top;\n    }\n\n    .dataframe thead th {\n        text-align: right;\n    }\n</style>\n<table border=\"1\" class=\"dataframe\">\n  <thead>\n    <tr style=\"text-align: right;\">\n      <th></th>\n      <th>Neighborhood</th>\n      <th>Yoga Studio</th>\n      <th>Afghan Restaurant</th>\n      <th>Airport</th>\n      <th>Airport Food Court</th>\n      <th>Airport Gate</th>\n      <th>Airport Lounge</th>\n      <th>Airport Service</th>\n      <th>Airport Terminal</th>\n      <th>American Restaurant</th>\n      <th>...</th>\n      <th>Theater</th>\n      <th>Theme Restaurant</th>\n      <th>Toy / Game Store</th>\n      <th>Trail</th>\n      <th>Train Station</th>\n      <th>Vegetarian / Vegan Restaurant</th>\n      <th>Video Game Store</th>\n      <th>Vietnamese Restaurant</th>\n      <th>Wine Bar</th>\n      <th>Women's Store</th>\n    </tr>\n  </thead>\n  <tbody>\n    <tr>\n      <th>0</th>\n      <td>Berczy Park</td>\n      <td>0.000000</td>\n      <td>0.0</td>\n      <td>0.0000</td>\n      <td>0.0000</td>\n      <td>0.0000</td>\n      <td>0.000</td>\n      <td>0.000</td>\n      <td>0.0000</td>\n      <td>0.0</td>\n      <td>...</td>\n      <td>0.0</td>\n      <td>0.0</td>\n      <td>0.0</td>\n      <td>0.0</td>\n      <td>0.0</td>\n      <td>0.018182</td>\n      <td>0.0</td>\n      <td>0.0</td>\n      <td>0.000000</td>\n      <td>0.0</td>\n    </tr>\n    <tr>\n      <th>1</th>\n      <td>Brockton, Parkdale Village, Exhibition Place</td>\n      <td>0.000000</td>\n      <td>0.0</td>\n      <td>0.0000</td>\n      <td>0.0000</td>\n      <td>0.0000</td>\n      <td>0.000</td>\n      <td>0.000</td>\n      <td>0.0000</td>\n      <td>0.0</td>\n      <td>...</td>\n      <td>0.0</td>\n      <td>0.0</td>\n      <td>0.0</td>\n      <td>0.0</td>\n      <td>0.0</td>\n      <td>0.000000</td>\n      <td>0.0</td>\n      <td>0.0</td>\n      <td>0.000000</td>\n      <td>0.0</td>\n    </tr>\n    <tr>\n      <th>2</th>\n      <td>Business reply mail Processing Centre, South C...</td>\n      <td>0.000000</td>\n      <td>0.0</td>\n      <td>0.0000</td>\n      <td>0.0000</td>\n      <td>0.0000</td>\n      <td>0.000</td>\n      <td>0.000</td>\n      <td>0.0000</td>\n      <td>0.0</td>\n      <td>...</td>\n      <td>0.0</td>\n      <td>0.0</td>\n      <td>0.0</td>\n      <td>0.0</td>\n      <td>0.0</td>\n      <td>0.000000</td>\n      <td>0.0</td>\n      <td>0.0</td>\n      <td>0.000000</td>\n      <td>0.0</td>\n    </tr>\n    <tr>\n      <th>3</th>\n      <td>CN Tower, King and Spadina, Railway Lands, Har...</td>\n      <td>0.000000</td>\n      <td>0.0</td>\n      <td>0.0625</td>\n      <td>0.0625</td>\n      <td>0.0625</td>\n      <td>0.125</td>\n      <td>0.125</td>\n      <td>0.0625</td>\n      <td>0.0</td>\n      <td>...</td>\n      <td>0.0</td>\n      <td>0.0</td>\n      <td>0.0</td>\n      <td>0.0</td>\n      <td>0.0</td>\n      <td>0.000000</td>\n      <td>0.0</td>\n      <td>0.0</td>\n      <td>0.000000</td>\n      <td>0.0</td>\n    </tr>\n    <tr>\n      <th>4</th>\n      <td>Central Bay Street</td>\n      <td>0.014706</td>\n      <td>0.0</td>\n      <td>0.0000</td>\n      <td>0.0000</td>\n      <td>0.0000</td>\n      <td>0.000</td>\n      <td>0.000</td>\n      <td>0.0000</td>\n      <td>0.0</td>\n      <td>...</td>\n      <td>0.0</td>\n      <td>0.0</td>\n      <td>0.0</td>\n      <td>0.0</td>\n      <td>0.0</td>\n      <td>0.014706</td>\n      <td>0.0</td>\n      <td>0.0</td>\n      <td>0.014706</td>\n      <td>0.0</td>\n    </tr>\n  </tbody>\n</table>\n<p>5 rows × 237 columns</p>\n</div>"
     },
     "metadata": {},
     "execution_count": 7
    }
   ],
   "source": [
    "toronto_grouped = toronto_onehot.groupby('Neighborhood').mean().reset_index()\n",
    "toronto_grouped.head()"
   ]
  },
  {
   "source": [
    "## Define a method to sort the venues in descending order."
   ],
   "cell_type": "markdown",
   "metadata": {}
  },
  {
   "cell_type": "code",
   "execution_count": 8,
   "metadata": {},
   "outputs": [],
   "source": [
    "def return_most_common_venues(row, num_top_venues):\n",
    "    row_categories = row.iloc[1:]\n",
    "    row_categories_sorted = row_categories.sort_values(ascending=False)\n",
    "    \n",
    "    return row_categories_sorted.index.values[0:num_top_venues]"
   ]
  },
  {
   "source": [
    "## Create the new dataframe and display the top 10 venues for each neighborhood."
   ],
   "cell_type": "markdown",
   "metadata": {}
  },
  {
   "cell_type": "code",
   "execution_count": 9,
   "metadata": {},
   "outputs": [
    {
     "output_type": "execute_result",
     "data": {
      "text/plain": [
       "                                        Neighborhood 1st Most Common Venue  \\\n",
       "0                                        Berczy Park           Coffee Shop   \n",
       "1       Brockton, Parkdale Village, Exhibition Place                  Café   \n",
       "2  Business reply mail Processing Centre, South C...                  Park   \n",
       "3  CN Tower, King and Spadina, Railway Lands, Har...        Airport Lounge   \n",
       "4                                 Central Bay Street           Coffee Shop   \n",
       "\n",
       "  2nd Most Common Venue 3rd Most Common Venue 4th Most Common Venue  \\\n",
       "0                Bakery            Restaurant           Cheese Shop   \n",
       "1        Breakfast Spot             Nightclub           Coffee Shop   \n",
       "2           Pizza Place            Skate Park               Brewery   \n",
       "3       Airport Service      Sculpture Garden              Boutique   \n",
       "4                  Café        Sandwich Place    Italian Restaurant   \n",
       "\n",
       "  5th Most Common Venue 6th Most Common Venue 7th Most Common Venue  \\\n",
       "0              Beer Bar          Cocktail Bar    Seafood Restaurant   \n",
       "1         Grocery Store         Burrito Place                Bakery   \n",
       "2         Burrito Place        Farmers Market  Fast Food Restaurant   \n",
       "3                 Plane   Rental Car Location           Coffee Shop   \n",
       "4          Burger Joint      Department Store       Bubble Tea Shop   \n",
       "\n",
       "  8th Most Common Venue 9th Most Common Venue 10th Most Common Venue  \n",
       "0        Farmers Market        Breakfast Spot               Pharmacy  \n",
       "1          Intersection    Italian Restaurant             Restaurant  \n",
       "2            Restaurant               Butcher       Recording Studio  \n",
       "3         Boat or Ferry       Harbor / Marina                    Bar  \n",
       "4       Thai Restaurant   Japanese Restaurant            Salad Place  "
      ],
      "text/html": "<div>\n<style scoped>\n    .dataframe tbody tr th:only-of-type {\n        vertical-align: middle;\n    }\n\n    .dataframe tbody tr th {\n        vertical-align: top;\n    }\n\n    .dataframe thead th {\n        text-align: right;\n    }\n</style>\n<table border=\"1\" class=\"dataframe\">\n  <thead>\n    <tr style=\"text-align: right;\">\n      <th></th>\n      <th>Neighborhood</th>\n      <th>1st Most Common Venue</th>\n      <th>2nd Most Common Venue</th>\n      <th>3rd Most Common Venue</th>\n      <th>4th Most Common Venue</th>\n      <th>5th Most Common Venue</th>\n      <th>6th Most Common Venue</th>\n      <th>7th Most Common Venue</th>\n      <th>8th Most Common Venue</th>\n      <th>9th Most Common Venue</th>\n      <th>10th Most Common Venue</th>\n    </tr>\n  </thead>\n  <tbody>\n    <tr>\n      <th>0</th>\n      <td>Berczy Park</td>\n      <td>Coffee Shop</td>\n      <td>Bakery</td>\n      <td>Restaurant</td>\n      <td>Cheese Shop</td>\n      <td>Beer Bar</td>\n      <td>Cocktail Bar</td>\n      <td>Seafood Restaurant</td>\n      <td>Farmers Market</td>\n      <td>Breakfast Spot</td>\n      <td>Pharmacy</td>\n    </tr>\n    <tr>\n      <th>1</th>\n      <td>Brockton, Parkdale Village, Exhibition Place</td>\n      <td>Café</td>\n      <td>Breakfast Spot</td>\n      <td>Nightclub</td>\n      <td>Coffee Shop</td>\n      <td>Grocery Store</td>\n      <td>Burrito Place</td>\n      <td>Bakery</td>\n      <td>Intersection</td>\n      <td>Italian Restaurant</td>\n      <td>Restaurant</td>\n    </tr>\n    <tr>\n      <th>2</th>\n      <td>Business reply mail Processing Centre, South C...</td>\n      <td>Park</td>\n      <td>Pizza Place</td>\n      <td>Skate Park</td>\n      <td>Brewery</td>\n      <td>Burrito Place</td>\n      <td>Farmers Market</td>\n      <td>Fast Food Restaurant</td>\n      <td>Restaurant</td>\n      <td>Butcher</td>\n      <td>Recording Studio</td>\n    </tr>\n    <tr>\n      <th>3</th>\n      <td>CN Tower, King and Spadina, Railway Lands, Har...</td>\n      <td>Airport Lounge</td>\n      <td>Airport Service</td>\n      <td>Sculpture Garden</td>\n      <td>Boutique</td>\n      <td>Plane</td>\n      <td>Rental Car Location</td>\n      <td>Coffee Shop</td>\n      <td>Boat or Ferry</td>\n      <td>Harbor / Marina</td>\n      <td>Bar</td>\n    </tr>\n    <tr>\n      <th>4</th>\n      <td>Central Bay Street</td>\n      <td>Coffee Shop</td>\n      <td>Café</td>\n      <td>Sandwich Place</td>\n      <td>Italian Restaurant</td>\n      <td>Burger Joint</td>\n      <td>Department Store</td>\n      <td>Bubble Tea Shop</td>\n      <td>Thai Restaurant</td>\n      <td>Japanese Restaurant</td>\n      <td>Salad Place</td>\n    </tr>\n  </tbody>\n</table>\n</div>"
     },
     "metadata": {},
     "execution_count": 9
    }
   ],
   "source": [
    "num_top_venues = 10\n",
    "\n",
    "indicators = ['st', 'nd', 'rd']\n",
    "\n",
    "# create columns according to number of top venues\n",
    "columns = ['Neighborhood']\n",
    "for ind in np.arange(num_top_venues):\n",
    "    try:\n",
    "        columns.append('{}{} Most Common Venue'.format(ind+1, indicators[ind]))\n",
    "    except:\n",
    "        columns.append('{}th Most Common Venue'.format(ind+1))\n",
    "\n",
    "# create a new dataframe\n",
    "toronto_grouped_sorted = pd.DataFrame(columns=columns)\n",
    "toronto_grouped_sorted['Neighborhood'] = toronto_grouped['Neighborhood']\n",
    "\n",
    "for ind in np.arange(toronto_grouped.shape[0]):\n",
    "    toronto_grouped_sorted.iloc[ind, 1:] = return_most_common_venues(toronto_grouped.iloc[ind, :], num_top_venues)\n",
    "\n",
    "toronto_grouped_sorted.head()"
   ]
  },
  {
   "source": [
    "## Run _k_-means to cluster the neighborhood into 5 clusters."
   ],
   "cell_type": "markdown",
   "metadata": {}
  },
  {
   "cell_type": "code",
   "execution_count": 10,
   "metadata": {},
   "outputs": [
    {
     "output_type": "execute_result",
     "data": {
      "text/plain": [
       "array([1, 0, 1, 1, 1, 0, 1, 1, 1, 1], dtype=int32)"
      ]
     },
     "metadata": {},
     "execution_count": 10
    }
   ],
   "source": [
    "# import k-means from clustering stage\n",
    "from sklearn.cluster import KMeans\n",
    "\n",
    "# set number of clusters\n",
    "kclusters = 8\n",
    "\n",
    "toronto_grouped_clustering = toronto_grouped.drop('Neighborhood', 1)\n",
    "\n",
    "# run k-means clustering\n",
    "kmeans = KMeans(n_clusters=kclusters, random_state=0).fit(toronto_grouped_clustering)\n",
    "\n",
    "# check cluster labels generated for each row in the dataframe\n",
    "kmeans.labels_[0:10] "
   ]
  },
  {
   "source": [
    "## Create a new dataframe that includes the cluster as well as the top 10 venues for each neighborhood."
   ],
   "cell_type": "markdown",
   "metadata": {}
  },
  {
   "cell_type": "code",
   "execution_count": 11,
   "metadata": {},
   "outputs": [
    {
     "output_type": "execute_result",
     "data": {
      "text/plain": [
       "   Cluster Labels                                       Neighborhood  \\\n",
       "0               1                                        Berczy Park   \n",
       "1               0       Brockton, Parkdale Village, Exhibition Place   \n",
       "2               1  Business reply mail Processing Centre, South C...   \n",
       "3               1  CN Tower, King and Spadina, Railway Lands, Har...   \n",
       "4               1                                 Central Bay Street   \n",
       "\n",
       "  1st Most Common Venue 2nd Most Common Venue 3rd Most Common Venue  \\\n",
       "0           Coffee Shop                Bakery            Restaurant   \n",
       "1                  Café        Breakfast Spot             Nightclub   \n",
       "2                  Park           Pizza Place            Skate Park   \n",
       "3        Airport Lounge       Airport Service      Sculpture Garden   \n",
       "4           Coffee Shop                  Café        Sandwich Place   \n",
       "\n",
       "  4th Most Common Venue 5th Most Common Venue 6th Most Common Venue  \\\n",
       "0           Cheese Shop              Beer Bar          Cocktail Bar   \n",
       "1           Coffee Shop         Grocery Store         Burrito Place   \n",
       "2               Brewery         Burrito Place        Farmers Market   \n",
       "3              Boutique                 Plane   Rental Car Location   \n",
       "4    Italian Restaurant          Burger Joint      Department Store   \n",
       "\n",
       "  7th Most Common Venue 8th Most Common Venue 9th Most Common Venue  \\\n",
       "0    Seafood Restaurant        Farmers Market        Breakfast Spot   \n",
       "1                Bakery          Intersection    Italian Restaurant   \n",
       "2  Fast Food Restaurant            Restaurant               Butcher   \n",
       "3           Coffee Shop         Boat or Ferry       Harbor / Marina   \n",
       "4       Bubble Tea Shop       Thai Restaurant   Japanese Restaurant   \n",
       "\n",
       "  10th Most Common Venue  \n",
       "0               Pharmacy  \n",
       "1             Restaurant  \n",
       "2       Recording Studio  \n",
       "3                    Bar  \n",
       "4            Salad Place  "
      ],
      "text/html": "<div>\n<style scoped>\n    .dataframe tbody tr th:only-of-type {\n        vertical-align: middle;\n    }\n\n    .dataframe tbody tr th {\n        vertical-align: top;\n    }\n\n    .dataframe thead th {\n        text-align: right;\n    }\n</style>\n<table border=\"1\" class=\"dataframe\">\n  <thead>\n    <tr style=\"text-align: right;\">\n      <th></th>\n      <th>Cluster Labels</th>\n      <th>Neighborhood</th>\n      <th>1st Most Common Venue</th>\n      <th>2nd Most Common Venue</th>\n      <th>3rd Most Common Venue</th>\n      <th>4th Most Common Venue</th>\n      <th>5th Most Common Venue</th>\n      <th>6th Most Common Venue</th>\n      <th>7th Most Common Venue</th>\n      <th>8th Most Common Venue</th>\n      <th>9th Most Common Venue</th>\n      <th>10th Most Common Venue</th>\n    </tr>\n  </thead>\n  <tbody>\n    <tr>\n      <th>0</th>\n      <td>1</td>\n      <td>Berczy Park</td>\n      <td>Coffee Shop</td>\n      <td>Bakery</td>\n      <td>Restaurant</td>\n      <td>Cheese Shop</td>\n      <td>Beer Bar</td>\n      <td>Cocktail Bar</td>\n      <td>Seafood Restaurant</td>\n      <td>Farmers Market</td>\n      <td>Breakfast Spot</td>\n      <td>Pharmacy</td>\n    </tr>\n    <tr>\n      <th>1</th>\n      <td>0</td>\n      <td>Brockton, Parkdale Village, Exhibition Place</td>\n      <td>Café</td>\n      <td>Breakfast Spot</td>\n      <td>Nightclub</td>\n      <td>Coffee Shop</td>\n      <td>Grocery Store</td>\n      <td>Burrito Place</td>\n      <td>Bakery</td>\n      <td>Intersection</td>\n      <td>Italian Restaurant</td>\n      <td>Restaurant</td>\n    </tr>\n    <tr>\n      <th>2</th>\n      <td>1</td>\n      <td>Business reply mail Processing Centre, South C...</td>\n      <td>Park</td>\n      <td>Pizza Place</td>\n      <td>Skate Park</td>\n      <td>Brewery</td>\n      <td>Burrito Place</td>\n      <td>Farmers Market</td>\n      <td>Fast Food Restaurant</td>\n      <td>Restaurant</td>\n      <td>Butcher</td>\n      <td>Recording Studio</td>\n    </tr>\n    <tr>\n      <th>3</th>\n      <td>1</td>\n      <td>CN Tower, King and Spadina, Railway Lands, Har...</td>\n      <td>Airport Lounge</td>\n      <td>Airport Service</td>\n      <td>Sculpture Garden</td>\n      <td>Boutique</td>\n      <td>Plane</td>\n      <td>Rental Car Location</td>\n      <td>Coffee Shop</td>\n      <td>Boat or Ferry</td>\n      <td>Harbor / Marina</td>\n      <td>Bar</td>\n    </tr>\n    <tr>\n      <th>4</th>\n      <td>1</td>\n      <td>Central Bay Street</td>\n      <td>Coffee Shop</td>\n      <td>Café</td>\n      <td>Sandwich Place</td>\n      <td>Italian Restaurant</td>\n      <td>Burger Joint</td>\n      <td>Department Store</td>\n      <td>Bubble Tea Shop</td>\n      <td>Thai Restaurant</td>\n      <td>Japanese Restaurant</td>\n      <td>Salad Place</td>\n    </tr>\n  </tbody>\n</table>\n</div>"
     },
     "metadata": {},
     "execution_count": 11
    }
   ],
   "source": [
    "# add clustering labels\n",
    "toronto_grouped_sorted.insert(0, 'Cluster Labels', kmeans.labels_)\n",
    "toronto_grouped_sorted.head()"
   ]
  },
  {
   "cell_type": "code",
   "execution_count": 12,
   "metadata": {},
   "outputs": [
    {
     "output_type": "execute_result",
     "data": {
      "text/plain": [
       "  Postal Code          Borough                   Neighbourhood   Latitude  \\\n",
       "0         M4E     East Toronto                     The Beaches  43.676357   \n",
       "1         M4K     East Toronto    The Danforth West, Riverdale  43.679557   \n",
       "2         M4L     East Toronto  India Bazaar, The Beaches West  43.668999   \n",
       "3         M4M     East Toronto                 Studio District  43.659526   \n",
       "4         M4N  Central Toronto                   Lawrence Park  43.728020   \n",
       "\n",
       "   Longitude  Cluster Labels                    Neighborhood  \\\n",
       "0 -79.293031               7                     The Beaches   \n",
       "1 -79.352188               1    The Danforth West, Riverdale   \n",
       "2 -79.315572               1  India Bazaar, The Beaches West   \n",
       "3 -79.340923               1                 Studio District   \n",
       "4 -79.388790               5                   Lawrence Park   \n",
       "\n",
       "  1st Most Common Venue 2nd Most Common Venue 3rd Most Common Venue  \\\n",
       "0                   Pub                 Trail     Health Food Store   \n",
       "1      Greek Restaurant           Coffee Shop    Italian Restaurant   \n",
       "2                  Park           Pizza Place  Fast Food Restaurant   \n",
       "3           Coffee Shop                Bakery             Gastropub   \n",
       "4                  Park           Swim School              Bus Line   \n",
       "\n",
       "  4th Most Common Venue        5th Most Common Venue 6th Most Common Venue  \\\n",
       "0         Women's Store          Distribution Center          Dessert Shop   \n",
       "1            Restaurant       Furniture / Home Store             Bookstore   \n",
       "2                   Pub            Fish & Chips Shop            Steakhouse   \n",
       "3               Brewery                         Café   American Restaurant   \n",
       "4     Electronics Store  Eastern European Restaurant   Dumpling Restaurant   \n",
       "\n",
       "  7th Most Common Venue 8th Most Common Venue 9th Most Common Venue  \\\n",
       "0    Dim Sum Restaurant                 Diner        Discount Store   \n",
       "1        Ice Cream Shop                   Pub           Pizza Place   \n",
       "2      Sushi Restaurant         Burrito Place    Italian Restaurant   \n",
       "3     Convenience Store    Seafood Restaurant           Cheese Shop   \n",
       "4            Donut Shop      Doner Restaurant               Dog Run   \n",
       "\n",
       "  10th Most Common Venue  \n",
       "0       Doner Restaurant  \n",
       "1                 Lounge  \n",
       "2             Restaurant  \n",
       "3         Clothing Store  \n",
       "4    Distribution Center  "
      ],
      "text/html": "<div>\n<style scoped>\n    .dataframe tbody tr th:only-of-type {\n        vertical-align: middle;\n    }\n\n    .dataframe tbody tr th {\n        vertical-align: top;\n    }\n\n    .dataframe thead th {\n        text-align: right;\n    }\n</style>\n<table border=\"1\" class=\"dataframe\">\n  <thead>\n    <tr style=\"text-align: right;\">\n      <th></th>\n      <th>Postal Code</th>\n      <th>Borough</th>\n      <th>Neighbourhood</th>\n      <th>Latitude</th>\n      <th>Longitude</th>\n      <th>Cluster Labels</th>\n      <th>Neighborhood</th>\n      <th>1st Most Common Venue</th>\n      <th>2nd Most Common Venue</th>\n      <th>3rd Most Common Venue</th>\n      <th>4th Most Common Venue</th>\n      <th>5th Most Common Venue</th>\n      <th>6th Most Common Venue</th>\n      <th>7th Most Common Venue</th>\n      <th>8th Most Common Venue</th>\n      <th>9th Most Common Venue</th>\n      <th>10th Most Common Venue</th>\n    </tr>\n  </thead>\n  <tbody>\n    <tr>\n      <th>0</th>\n      <td>M4E</td>\n      <td>East Toronto</td>\n      <td>The Beaches</td>\n      <td>43.676357</td>\n      <td>-79.293031</td>\n      <td>7</td>\n      <td>The Beaches</td>\n      <td>Pub</td>\n      <td>Trail</td>\n      <td>Health Food Store</td>\n      <td>Women's Store</td>\n      <td>Distribution Center</td>\n      <td>Dessert Shop</td>\n      <td>Dim Sum Restaurant</td>\n      <td>Diner</td>\n      <td>Discount Store</td>\n      <td>Doner Restaurant</td>\n    </tr>\n    <tr>\n      <th>1</th>\n      <td>M4K</td>\n      <td>East Toronto</td>\n      <td>The Danforth West, Riverdale</td>\n      <td>43.679557</td>\n      <td>-79.352188</td>\n      <td>1</td>\n      <td>The Danforth West, Riverdale</td>\n      <td>Greek Restaurant</td>\n      <td>Coffee Shop</td>\n      <td>Italian Restaurant</td>\n      <td>Restaurant</td>\n      <td>Furniture / Home Store</td>\n      <td>Bookstore</td>\n      <td>Ice Cream Shop</td>\n      <td>Pub</td>\n      <td>Pizza Place</td>\n      <td>Lounge</td>\n    </tr>\n    <tr>\n      <th>2</th>\n      <td>M4L</td>\n      <td>East Toronto</td>\n      <td>India Bazaar, The Beaches West</td>\n      <td>43.668999</td>\n      <td>-79.315572</td>\n      <td>1</td>\n      <td>India Bazaar, The Beaches West</td>\n      <td>Park</td>\n      <td>Pizza Place</td>\n      <td>Fast Food Restaurant</td>\n      <td>Pub</td>\n      <td>Fish &amp; Chips Shop</td>\n      <td>Steakhouse</td>\n      <td>Sushi Restaurant</td>\n      <td>Burrito Place</td>\n      <td>Italian Restaurant</td>\n      <td>Restaurant</td>\n    </tr>\n    <tr>\n      <th>3</th>\n      <td>M4M</td>\n      <td>East Toronto</td>\n      <td>Studio District</td>\n      <td>43.659526</td>\n      <td>-79.340923</td>\n      <td>1</td>\n      <td>Studio District</td>\n      <td>Coffee Shop</td>\n      <td>Bakery</td>\n      <td>Gastropub</td>\n      <td>Brewery</td>\n      <td>Café</td>\n      <td>American Restaurant</td>\n      <td>Convenience Store</td>\n      <td>Seafood Restaurant</td>\n      <td>Cheese Shop</td>\n      <td>Clothing Store</td>\n    </tr>\n    <tr>\n      <th>4</th>\n      <td>M4N</td>\n      <td>Central Toronto</td>\n      <td>Lawrence Park</td>\n      <td>43.728020</td>\n      <td>-79.388790</td>\n      <td>5</td>\n      <td>Lawrence Park</td>\n      <td>Park</td>\n      <td>Swim School</td>\n      <td>Bus Line</td>\n      <td>Electronics Store</td>\n      <td>Eastern European Restaurant</td>\n      <td>Dumpling Restaurant</td>\n      <td>Donut Shop</td>\n      <td>Doner Restaurant</td>\n      <td>Dog Run</td>\n      <td>Distribution Center</td>\n    </tr>\n  </tbody>\n</table>\n</div>"
     },
     "metadata": {},
     "execution_count": 12
    }
   ],
   "source": [
    "toronto_merged = yyz\n",
    "\n",
    "# merge toronto_grouped_sorted with yyz to add latitude/longitude for each neighborhood\n",
    "toronto_merged = toronto_merged.merge(toronto_grouped_sorted, left_on='Neighbourhood', right_on='Neighborhood', how='inner')\n",
    "\n",
    "toronto_merged.head()"
   ]
  },
  {
   "source": [
    "## Create a map to visualize the result"
   ],
   "cell_type": "markdown",
   "metadata": {}
  },
  {
   "cell_type": "code",
   "execution_count": 13,
   "metadata": {},
   "outputs": [
    {
     "output_type": "execute_result",
     "data": {
      "text/plain": [
       "<folium.folium.Map at 0x7fd697e00070>"
      ],
      "text/html": "<div style=\"width:100%;\"><div style=\"position:relative;width:100%;height:0;padding-bottom:60%;\"><span style=\"color:#565656\">Make this Notebook Trusted to load map: File -> Trust Notebook</span><iframe src=\"about:blank\" style=\"position:absolute;width:100%;height:100%;left:0;top:0;border:none !important;\" data-html=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 onload=\"this.contentDocument.open();this.contentDocument.write(atob(this.getAttribute('data-html')));this.contentDocument.close();\" allowfullscreen webkitallowfullscreen mozallowfullscreen></iframe></div></div>"
     },
     "metadata": {},
     "execution_count": 13
    }
   ],
   "source": [
    "# Matplotlib and associated plotting modules\n",
    "import matplotlib.cm as cm\n",
    "import matplotlib.colors as colors\n",
    "\n",
    "import folium # map rendering library\n",
    "\n",
    "# create map\n",
    "map_clusters = folium.Map(location=[toronto_merged['Latitude'].mean(), toronto_merged['Longitude'].mean()], zoom_start=12)\n",
    "\n",
    "# set color scheme for the clusters\n",
    "x = np.arange(kclusters)\n",
    "ys = [i + x + (i*x)**2 for i in range(kclusters)]\n",
    "colors_array = cm.rainbow(np.linspace(0, 1, len(ys)))\n",
    "rainbow = [colors.rgb2hex(i) for i in colors_array]\n",
    "\n",
    "# add markers to the map\n",
    "markers_colors = []\n",
    "for lat, lon, poi, cluster in zip(toronto_merged['Latitude'], toronto_merged['Longitude'], toronto_merged['Neighborhood'], toronto_merged['Cluster Labels']):\n",
    "    label = folium.Popup(str(poi) + ' Cluster ' + str(cluster), parse_html=True)\n",
    "    folium.CircleMarker(\n",
    "        [lat, lon],\n",
    "        radius=5,\n",
    "        popup=label,\n",
    "        color=rainbow[cluster-1],\n",
    "        fill=True,\n",
    "        fill_color=rainbow[cluster-1],\n",
    "        fill_opacity=0.7).add_to(map_clusters)\n",
    "       \n",
    "map_clusters"
   ]
  }
 ],
 "metadata": {
  "kernelspec": {
   "display_name": "Python 3",
   "language": "python",
   "name": "python3"
  },
  "language_info": {
   "codemirror_mode": {
    "name": "ipython",
    "version": 3
   },
   "file_extension": ".py",
   "mimetype": "text/x-python",
   "name": "python",
   "nbconvert_exporter": "python",
   "pygments_lexer": "ipython3",
   "version": "3.9.0-final"
  }
 },
 "nbformat": 4,
 "nbformat_minor": 4
}