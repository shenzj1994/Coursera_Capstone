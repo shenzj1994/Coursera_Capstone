{
 "cells": [
  {
   "cell_type": "code",
   "execution_count": 1,
   "metadata": {},
   "outputs": [],
   "source": [
    "from lxml import etree"
   ]
  },
  {
   "cell_type": "code",
   "execution_count": 2,
   "metadata": {},
   "outputs": [],
   "source": [
    "tree = etree.parse(\"lfsa000b16g_e.gml\")"
   ]
  },
  {
   "cell_type": "code",
   "execution_count": 3,
   "metadata": {},
   "outputs": [
    {
     "name": "stdout",
     "output_type": "stream",
     "text": [
      "[{'FSA': 'B1E', 'posList': []}, {'posList': []}, {'posList': []}, {'posList': [<Element {http://www.opengis.net/gml}posList at 0x27bf5153500>]}, {'FSA': 'B1G', 'posList': []}, {'posList': []}, {'posList': []}, {'posList': [<Element {http://www.opengis.net/gml}posList at 0x27bf51536c0>]}, {'FSA': 'B1H', 'posList': []}, {'posList': []}]\n"
     ]
    }
   ],
   "source": [
    "root = tree.getroot()\n",
    "\n",
    "fsa_list=[]\n",
    "\n",
    "# for name in root.findall(\".//{http://www.opengis.net/gml}posList\"):\n",
    "#     print(name)\n",
    "\n",
    "for child in root:\n",
    "    if 'featureMember' in child.tag:\n",
    "        \n",
    "        for fme in child.getchildren()[0].getchildren():\n",
    "            fsa_member = dict()\n",
    "            if 'CFSAUID' in fme.tag:\n",
    "                fsa_member['FSA'] = fme.text\n",
    "                \n",
    "            posList = fme.findall(\".//{http://www.opengis.net/gml}posList\")\n",
    "            if posList is not None:\n",
    "                fsa_member['posList'] = posList\n",
    "\n",
    "            if len(fsa_member) > 0:\n",
    "                fsa_list.append(fsa_member)\n",
    "\n",
    "            \n",
    "print(fsa_list[0:10])"
   ]
  }
 ],
 "metadata": {
  "kernelspec": {
   "display_name": "Python 3",
   "language": "python",
   "name": "python3"
  },
  "language_info": {
   "codemirror_mode": {
    "name": "ipython",
    "version": 3
   },
   "file_extension": ".py",
   "mimetype": "text/x-python",
   "name": "python",
   "nbconvert_exporter": "python",
   "pygments_lexer": "ipython3",
   "version": "3.8.5"
  }
 },
 "nbformat": 4,
 "nbformat_minor": 4
}
